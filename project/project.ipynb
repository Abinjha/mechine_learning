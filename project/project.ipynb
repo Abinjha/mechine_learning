{
 "cells": [
  {
   "cell_type": "code",
   "execution_count": 5,
   "id": "b78f99cf",
   "metadata": {},
   "outputs": [
    {
     "data": {
      "text/plain": [
       "hadm_id                 0\n",
       "gender                  0\n",
       "age                     0\n",
       "LOSdays                 0\n",
       "admit_type              0\n",
       "admit_location          0\n",
       "AdmitDiagnosis         25\n",
       "insurance               0\n",
       "religion              458\n",
       "marital_status      10128\n",
       "ethnicity               0\n",
       "NumCallouts             0\n",
       "NumDiagnosis            0\n",
       "NumProcs                0\n",
       "AdmitProcedure          0\n",
       "NumCPTevents            0\n",
       "NumInput                0\n",
       "NumLabs                 0\n",
       "NumMicroLabs            0\n",
       "NumNotes                0\n",
       "NumOutput               0\n",
       "NumRx                   0\n",
       "NumProcEvents           0\n",
       "NumTransfers            0\n",
       "NumChartEvents          0\n",
       "ExpiredHospital         0\n",
       "TotalNumInteract        0\n",
       "LOSgroupNum             0\n",
       "dtype: int64"
      ]
     },
     "execution_count": 5,
     "metadata": {},
     "output_type": "execute_result"
    }
   ],
   "source": [
    "import numpy as np\n",
    "import pandas as pd\n",
    "df=pd.read_csv('mimic3d.csv')\n",
    "df.isna().sum()\n"
   ]
  },
  {
   "cell_type": "code",
   "execution_count": 6,
   "id": "fa410bc3",
   "metadata": {},
   "outputs": [
    {
     "data": {
      "text/plain": [
       "hadm_id               int64\n",
       "gender               object\n",
       "age                   int64\n",
       "LOSdays             float64\n",
       "admit_type           object\n",
       "admit_location       object\n",
       "AdmitDiagnosis       object\n",
       "insurance            object\n",
       "religion             object\n",
       "marital_status       object\n",
       "ethnicity            object\n",
       "NumCallouts         float64\n",
       "NumDiagnosis        float64\n",
       "NumProcs            float64\n",
       "AdmitProcedure       object\n",
       "NumCPTevents        float64\n",
       "NumInput            float64\n",
       "NumLabs             float64\n",
       "NumMicroLabs        float64\n",
       "NumNotes            float64\n",
       "NumOutput           float64\n",
       "NumRx               float64\n",
       "NumProcEvents       float64\n",
       "NumTransfers        float64\n",
       "NumChartEvents      float64\n",
       "ExpiredHospital       int64\n",
       "TotalNumInteract    float64\n",
       "LOSgroupNum           int64\n",
       "dtype: object"
      ]
     },
     "execution_count": 6,
     "metadata": {},
     "output_type": "execute_result"
    }
   ],
   "source": [
    "df.dtypes"
   ]
  },
  {
   "cell_type": "code",
   "execution_count": 7,
   "id": "74a831cb",
   "metadata": {},
   "outputs": [
    {
     "data": {
      "text/plain": [
       "(58976, 28)"
      ]
     },
     "execution_count": 7,
     "metadata": {},
     "output_type": "execute_result"
    }
   ],
   "source": [
    "df.shape"
   ]
  },
  {
   "cell_type": "code",
   "execution_count": null,
   "id": "4a231172",
   "metadata": {},
   "outputs": [],
   "source": []
  }
 ],
 "metadata": {
  "kernelspec": {
   "display_name": "Python 3",
   "language": "python",
   "name": "python3"
  },
  "language_info": {
   "codemirror_mode": {
    "name": "ipython",
    "version": 3
   },
   "file_extension": ".py",
   "mimetype": "text/x-python",
   "name": "python",
   "nbconvert_exporter": "python",
   "pygments_lexer": "ipython3",
   "version": "3.10.4"
  }
 },
 "nbformat": 4,
 "nbformat_minor": 5
}
