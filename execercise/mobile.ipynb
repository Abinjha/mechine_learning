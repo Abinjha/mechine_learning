{
 "cells": [
  {
   "cell_type": "code",
   "execution_count": 67,
   "id": "bd463f01",
   "metadata": {},
   "outputs": [],
   "source": [
    "import numpy as np\n",
    "import pandas as pd\n",
    "import seaborn as sns\n"
   ]
  },
  {
   "cell_type": "code",
   "execution_count": 68,
   "id": "eab91b2f",
   "metadata": {},
   "outputs": [
    {
     "data": {
      "text/plain": [
       "(836, 10)"
      ]
     },
     "execution_count": 68,
     "metadata": {},
     "output_type": "execute_result"
    }
   ],
   "source": [
    "df=pd.read_csv(\"Mobile Price Prediction Datatset.csv\")\n",
    "df.shape"
   ]
  },
  {
   "cell_type": "code",
   "execution_count": 69,
   "id": "75364332",
   "metadata": {},
   "outputs": [
    {
     "data": {
      "text/plain": [
       "Index(['Unnamed: 0', 'Brand me', 'Ratings', 'RAM', 'ROM', 'Mobile_Size',\n",
       "       'Primary_Cam', 'Selfi_Cam', 'Battery_Power', 'Price'],\n",
       "      dtype='object')"
      ]
     },
     "execution_count": 69,
     "metadata": {},
     "output_type": "execute_result"
    }
   ],
   "source": [
    "df.columns"
   ]
  },
  {
   "cell_type": "code",
   "execution_count": 70,
   "id": "dd7677e3",
   "metadata": {},
   "outputs": [
    {
     "data": {
      "text/plain": [
       "Unnamed: 0         int64\n",
       "Brand me          object\n",
       "Ratings          float64\n",
       "RAM              float64\n",
       "ROM              float64\n",
       "Mobile_Size      float64\n",
       "Primary_Cam        int64\n",
       "Selfi_Cam        float64\n",
       "Battery_Power      int64\n",
       "Price              int64\n",
       "dtype: object"
      ]
     },
     "execution_count": 70,
     "metadata": {},
     "output_type": "execute_result"
    }
   ],
   "source": [
    "df.dtypes"
   ]
  },
  {
   "cell_type": "code",
   "execution_count": 71,
   "id": "0e870eb7",
   "metadata": {},
   "outputs": [
    {
     "data": {
      "text/html": [
       "<div>\n",
       "<style scoped>\n",
       "    .dataframe tbody tr th:only-of-type {\n",
       "        vertical-align: middle;\n",
       "    }\n",
       "\n",
       "    .dataframe tbody tr th {\n",
       "        vertical-align: top;\n",
       "    }\n",
       "\n",
       "    .dataframe thead th {\n",
       "        text-align: right;\n",
       "    }\n",
       "</style>\n",
       "<table border=\"1\" class=\"dataframe\">\n",
       "  <thead>\n",
       "    <tr style=\"text-align: right;\">\n",
       "      <th></th>\n",
       "      <th>Unnamed: 0</th>\n",
       "      <th>Brand me</th>\n",
       "      <th>Ratings</th>\n",
       "      <th>RAM</th>\n",
       "      <th>ROM</th>\n",
       "      <th>Mobile_Size</th>\n",
       "      <th>Primary_Cam</th>\n",
       "      <th>Selfi_Cam</th>\n",
       "      <th>Battery_Power</th>\n",
       "      <th>Price</th>\n",
       "    </tr>\n",
       "  </thead>\n",
       "  <tbody>\n",
       "    <tr>\n",
       "      <th>0</th>\n",
       "      <td>0</td>\n",
       "      <td>LG V30+ (Black, 128 )</td>\n",
       "      <td>4.3</td>\n",
       "      <td>4.0</td>\n",
       "      <td>128.0</td>\n",
       "      <td>6.00</td>\n",
       "      <td>48</td>\n",
       "      <td>13.0</td>\n",
       "      <td>4000</td>\n",
       "      <td>24999</td>\n",
       "    </tr>\n",
       "    <tr>\n",
       "      <th>1</th>\n",
       "      <td>1</td>\n",
       "      <td>I Kall K11</td>\n",
       "      <td>3.4</td>\n",
       "      <td>6.0</td>\n",
       "      <td>64.0</td>\n",
       "      <td>4.50</td>\n",
       "      <td>48</td>\n",
       "      <td>12.0</td>\n",
       "      <td>4000</td>\n",
       "      <td>15999</td>\n",
       "    </tr>\n",
       "    <tr>\n",
       "      <th>2</th>\n",
       "      <td>2</td>\n",
       "      <td>Nokia 105 ss</td>\n",
       "      <td>4.3</td>\n",
       "      <td>4.0</td>\n",
       "      <td>4.0</td>\n",
       "      <td>4.50</td>\n",
       "      <td>64</td>\n",
       "      <td>16.0</td>\n",
       "      <td>4000</td>\n",
       "      <td>15000</td>\n",
       "    </tr>\n",
       "    <tr>\n",
       "      <th>3</th>\n",
       "      <td>3</td>\n",
       "      <td>Samsung Galaxy A50 (White, 64 )</td>\n",
       "      <td>4.4</td>\n",
       "      <td>6.0</td>\n",
       "      <td>64.0</td>\n",
       "      <td>6.40</td>\n",
       "      <td>48</td>\n",
       "      <td>15.0</td>\n",
       "      <td>3800</td>\n",
       "      <td>18999</td>\n",
       "    </tr>\n",
       "    <tr>\n",
       "      <th>4</th>\n",
       "      <td>4</td>\n",
       "      <td>POCO F1 (Steel Blue, 128 )</td>\n",
       "      <td>4.5</td>\n",
       "      <td>6.0</td>\n",
       "      <td>128.0</td>\n",
       "      <td>6.18</td>\n",
       "      <td>35</td>\n",
       "      <td>15.0</td>\n",
       "      <td>3800</td>\n",
       "      <td>18999</td>\n",
       "    </tr>\n",
       "  </tbody>\n",
       "</table>\n",
       "</div>"
      ],
      "text/plain": [
       "   Unnamed: 0                         Brand me  Ratings  RAM    ROM  \\\n",
       "0           0            LG V30+ (Black, 128 )      4.3  4.0  128.0   \n",
       "1           1                       I Kall K11      3.4  6.0   64.0   \n",
       "2           2                     Nokia 105 ss      4.3  4.0    4.0   \n",
       "3           3  Samsung Galaxy A50 (White, 64 )      4.4  6.0   64.0   \n",
       "4           4       POCO F1 (Steel Blue, 128 )      4.5  6.0  128.0   \n",
       "\n",
       "   Mobile_Size  Primary_Cam  Selfi_Cam  Battery_Power  Price  \n",
       "0         6.00           48       13.0           4000  24999  \n",
       "1         4.50           48       12.0           4000  15999  \n",
       "2         4.50           64       16.0           4000  15000  \n",
       "3         6.40           48       15.0           3800  18999  \n",
       "4         6.18           35       15.0           3800  18999  "
      ]
     },
     "execution_count": 71,
     "metadata": {},
     "output_type": "execute_result"
    }
   ],
   "source": [
    "\n",
    "df.head()"
   ]
  },
  {
   "cell_type": "code",
   "execution_count": 72,
   "id": "b6d89e85",
   "metadata": {},
   "outputs": [
    {
     "data": {
      "text/html": [
       "<div>\n",
       "<style scoped>\n",
       "    .dataframe tbody tr th:only-of-type {\n",
       "        vertical-align: middle;\n",
       "    }\n",
       "\n",
       "    .dataframe tbody tr th {\n",
       "        vertical-align: top;\n",
       "    }\n",
       "\n",
       "    .dataframe thead th {\n",
       "        text-align: right;\n",
       "    }\n",
       "</style>\n",
       "<table border=\"1\" class=\"dataframe\">\n",
       "  <thead>\n",
       "    <tr style=\"text-align: right;\">\n",
       "      <th></th>\n",
       "      <th>Unnamed: 0</th>\n",
       "      <th>Brand me</th>\n",
       "      <th>Ratings</th>\n",
       "      <th>RAM</th>\n",
       "      <th>ROM</th>\n",
       "      <th>Mobile_Size</th>\n",
       "      <th>Primary_Cam</th>\n",
       "      <th>Selfi_Cam</th>\n",
       "      <th>Battery_Power</th>\n",
       "      <th>Price</th>\n",
       "    </tr>\n",
       "  </thead>\n",
       "  <tbody>\n",
       "    <tr>\n",
       "      <th>831</th>\n",
       "      <td>831</td>\n",
       "      <td>Karbonn K24 Plus Pro</td>\n",
       "      <td>3.8</td>\n",
       "      <td>6.0</td>\n",
       "      <td>32.0</td>\n",
       "      <td>4.54</td>\n",
       "      <td>48</td>\n",
       "      <td>12.0</td>\n",
       "      <td>2800</td>\n",
       "      <td>1299</td>\n",
       "    </tr>\n",
       "    <tr>\n",
       "      <th>832</th>\n",
       "      <td>832</td>\n",
       "      <td>InFocus POWER 2</td>\n",
       "      <td>4.1</td>\n",
       "      <td>8.0</td>\n",
       "      <td>64.0</td>\n",
       "      <td>4.54</td>\n",
       "      <td>64</td>\n",
       "      <td>NaN</td>\n",
       "      <td>2500</td>\n",
       "      <td>1390</td>\n",
       "    </tr>\n",
       "    <tr>\n",
       "      <th>833</th>\n",
       "      <td>833</td>\n",
       "      <td>Alcatel 5V (Spectrum Blue, 32 )</td>\n",
       "      <td>4.4</td>\n",
       "      <td>3.0</td>\n",
       "      <td>32.0</td>\n",
       "      <td>6.20</td>\n",
       "      <td>48</td>\n",
       "      <td>1.0</td>\n",
       "      <td>3800</td>\n",
       "      <td>9790</td>\n",
       "    </tr>\n",
       "    <tr>\n",
       "      <th>834</th>\n",
       "      <td>834</td>\n",
       "      <td>JIVI JV 12M</td>\n",
       "      <td>3.7</td>\n",
       "      <td>10.0</td>\n",
       "      <td>32.0</td>\n",
       "      <td>4.50</td>\n",
       "      <td>64</td>\n",
       "      <td>NaN</td>\n",
       "      <td>3500</td>\n",
       "      <td>799</td>\n",
       "    </tr>\n",
       "    <tr>\n",
       "      <th>835</th>\n",
       "      <td>835</td>\n",
       "      <td>Blacear B5 Grip</td>\n",
       "      <td>3.5</td>\n",
       "      <td>6.0</td>\n",
       "      <td>32.0</td>\n",
       "      <td>4.50</td>\n",
       "      <td>64</td>\n",
       "      <td>15.0</td>\n",
       "      <td>1050</td>\n",
       "      <td>799</td>\n",
       "    </tr>\n",
       "  </tbody>\n",
       "</table>\n",
       "</div>"
      ],
      "text/plain": [
       "     Unnamed: 0                         Brand me  Ratings   RAM   ROM  \\\n",
       "831         831             Karbonn K24 Plus Pro      3.8   6.0  32.0   \n",
       "832         832                  InFocus POWER 2      4.1   8.0  64.0   \n",
       "833         833  Alcatel 5V (Spectrum Blue, 32 )      4.4   3.0  32.0   \n",
       "834         834                      JIVI JV 12M      3.7  10.0  32.0   \n",
       "835         835                  Blacear B5 Grip      3.5   6.0  32.0   \n",
       "\n",
       "     Mobile_Size  Primary_Cam  Selfi_Cam  Battery_Power  Price  \n",
       "831         4.54           48       12.0           2800   1299  \n",
       "832         4.54           64        NaN           2500   1390  \n",
       "833         6.20           48        1.0           3800   9790  \n",
       "834         4.50           64        NaN           3500    799  \n",
       "835         4.50           64       15.0           1050    799  "
      ]
     },
     "execution_count": 72,
     "metadata": {},
     "output_type": "execute_result"
    }
   ],
   "source": [
    "df.tail()"
   ]
  },
  {
   "cell_type": "code",
   "execution_count": 73,
   "id": "211b83e2",
   "metadata": {},
   "outputs": [
    {
     "data": {
      "text/plain": [
       "Unnamed: 0         0\n",
       "Brand me           0\n",
       "Ratings           31\n",
       "RAM                7\n",
       "ROM                4\n",
       "Mobile_Size        2\n",
       "Primary_Cam        0\n",
       "Selfi_Cam        269\n",
       "Battery_Power      0\n",
       "Price              0\n",
       "dtype: int64"
      ]
     },
     "execution_count": 73,
     "metadata": {},
     "output_type": "execute_result"
    }
   ],
   "source": [
    "df.isna().sum()"
   ]
  },
  {
   "cell_type": "code",
   "execution_count": 74,
   "id": "d986bb8b",
   "metadata": {},
   "outputs": [
    {
     "data": {
      "text/plain": [
       "427"
      ]
     },
     "execution_count": 74,
     "metadata": {},
     "output_type": "execute_result"
    }
   ],
   "source": [
    "len(df['Brand me'].unique())"
   ]
  },
  {
   "cell_type": "code",
   "execution_count": 75,
   "id": "8b17577d",
   "metadata": {},
   "outputs": [
    {
     "data": {
      "text/html": [
       "<div>\n",
       "<style scoped>\n",
       "    .dataframe tbody tr th:only-of-type {\n",
       "        vertical-align: middle;\n",
       "    }\n",
       "\n",
       "    .dataframe tbody tr th {\n",
       "        vertical-align: top;\n",
       "    }\n",
       "\n",
       "    .dataframe thead th {\n",
       "        text-align: right;\n",
       "    }\n",
       "</style>\n",
       "<table border=\"1\" class=\"dataframe\">\n",
       "  <thead>\n",
       "    <tr style=\"text-align: right;\">\n",
       "      <th></th>\n",
       "      <th>Unnamed: 0</th>\n",
       "      <th>Ratings</th>\n",
       "      <th>RAM</th>\n",
       "      <th>ROM</th>\n",
       "      <th>Mobile_Size</th>\n",
       "      <th>Primary_Cam</th>\n",
       "      <th>Selfi_Cam</th>\n",
       "      <th>Battery_Power</th>\n",
       "      <th>Price</th>\n",
       "    </tr>\n",
       "  </thead>\n",
       "  <tbody>\n",
       "    <tr>\n",
       "      <th>Unnamed: 0</th>\n",
       "      <td>1.000000</td>\n",
       "      <td>0.036258</td>\n",
       "      <td>-0.002807</td>\n",
       "      <td>0.041192</td>\n",
       "      <td>-0.014559</td>\n",
       "      <td>0.048192</td>\n",
       "      <td>0.064597</td>\n",
       "      <td>-0.009143</td>\n",
       "      <td>-0.010725</td>\n",
       "    </tr>\n",
       "    <tr>\n",
       "      <th>Ratings</th>\n",
       "      <td>0.036258</td>\n",
       "      <td>1.000000</td>\n",
       "      <td>0.101002</td>\n",
       "      <td>0.458957</td>\n",
       "      <td>0.089091</td>\n",
       "      <td>-0.098439</td>\n",
       "      <td>-0.176199</td>\n",
       "      <td>0.478596</td>\n",
       "      <td>0.367021</td>\n",
       "    </tr>\n",
       "    <tr>\n",
       "      <th>RAM</th>\n",
       "      <td>-0.002807</td>\n",
       "      <td>0.101002</td>\n",
       "      <td>1.000000</td>\n",
       "      <td>0.252041</td>\n",
       "      <td>-0.001280</td>\n",
       "      <td>0.141025</td>\n",
       "      <td>0.211169</td>\n",
       "      <td>0.023227</td>\n",
       "      <td>0.236988</td>\n",
       "    </tr>\n",
       "    <tr>\n",
       "      <th>ROM</th>\n",
       "      <td>0.041192</td>\n",
       "      <td>0.458957</td>\n",
       "      <td>0.252041</td>\n",
       "      <td>1.000000</td>\n",
       "      <td>0.108141</td>\n",
       "      <td>-0.070019</td>\n",
       "      <td>-0.116891</td>\n",
       "      <td>0.410130</td>\n",
       "      <td>0.255682</td>\n",
       "    </tr>\n",
       "    <tr>\n",
       "      <th>Mobile_Size</th>\n",
       "      <td>-0.014559</td>\n",
       "      <td>0.089091</td>\n",
       "      <td>-0.001280</td>\n",
       "      <td>0.108141</td>\n",
       "      <td>1.000000</td>\n",
       "      <td>-0.059971</td>\n",
       "      <td>-0.062876</td>\n",
       "      <td>0.131636</td>\n",
       "      <td>0.049087</td>\n",
       "    </tr>\n",
       "    <tr>\n",
       "      <th>Primary_Cam</th>\n",
       "      <td>0.048192</td>\n",
       "      <td>-0.098439</td>\n",
       "      <td>0.141025</td>\n",
       "      <td>-0.070019</td>\n",
       "      <td>-0.059971</td>\n",
       "      <td>1.000000</td>\n",
       "      <td>0.196474</td>\n",
       "      <td>-0.057011</td>\n",
       "      <td>-0.158122</td>\n",
       "    </tr>\n",
       "    <tr>\n",
       "      <th>Selfi_Cam</th>\n",
       "      <td>0.064597</td>\n",
       "      <td>-0.176199</td>\n",
       "      <td>0.211169</td>\n",
       "      <td>-0.116891</td>\n",
       "      <td>-0.062876</td>\n",
       "      <td>0.196474</td>\n",
       "      <td>1.000000</td>\n",
       "      <td>-0.219606</td>\n",
       "      <td>-0.047000</td>\n",
       "    </tr>\n",
       "    <tr>\n",
       "      <th>Battery_Power</th>\n",
       "      <td>-0.009143</td>\n",
       "      <td>0.478596</td>\n",
       "      <td>0.023227</td>\n",
       "      <td>0.410130</td>\n",
       "      <td>0.131636</td>\n",
       "      <td>-0.057011</td>\n",
       "      <td>-0.219606</td>\n",
       "      <td>1.000000</td>\n",
       "      <td>0.168626</td>\n",
       "    </tr>\n",
       "    <tr>\n",
       "      <th>Price</th>\n",
       "      <td>-0.010725</td>\n",
       "      <td>0.367021</td>\n",
       "      <td>0.236988</td>\n",
       "      <td>0.255682</td>\n",
       "      <td>0.049087</td>\n",
       "      <td>-0.158122</td>\n",
       "      <td>-0.047000</td>\n",
       "      <td>0.168626</td>\n",
       "      <td>1.000000</td>\n",
       "    </tr>\n",
       "  </tbody>\n",
       "</table>\n",
       "</div>"
      ],
      "text/plain": [
       "               Unnamed: 0   Ratings       RAM       ROM  Mobile_Size  \\\n",
       "Unnamed: 0       1.000000  0.036258 -0.002807  0.041192    -0.014559   \n",
       "Ratings          0.036258  1.000000  0.101002  0.458957     0.089091   \n",
       "RAM             -0.002807  0.101002  1.000000  0.252041    -0.001280   \n",
       "ROM              0.041192  0.458957  0.252041  1.000000     0.108141   \n",
       "Mobile_Size     -0.014559  0.089091 -0.001280  0.108141     1.000000   \n",
       "Primary_Cam      0.048192 -0.098439  0.141025 -0.070019    -0.059971   \n",
       "Selfi_Cam        0.064597 -0.176199  0.211169 -0.116891    -0.062876   \n",
       "Battery_Power   -0.009143  0.478596  0.023227  0.410130     0.131636   \n",
       "Price           -0.010725  0.367021  0.236988  0.255682     0.049087   \n",
       "\n",
       "               Primary_Cam  Selfi_Cam  Battery_Power     Price  \n",
       "Unnamed: 0        0.048192   0.064597      -0.009143 -0.010725  \n",
       "Ratings          -0.098439  -0.176199       0.478596  0.367021  \n",
       "RAM               0.141025   0.211169       0.023227  0.236988  \n",
       "ROM              -0.070019  -0.116891       0.410130  0.255682  \n",
       "Mobile_Size      -0.059971  -0.062876       0.131636  0.049087  \n",
       "Primary_Cam       1.000000   0.196474      -0.057011 -0.158122  \n",
       "Selfi_Cam         0.196474   1.000000      -0.219606 -0.047000  \n",
       "Battery_Power    -0.057011  -0.219606       1.000000  0.168626  \n",
       "Price            -0.158122  -0.047000       0.168626  1.000000  "
      ]
     },
     "execution_count": 75,
     "metadata": {},
     "output_type": "execute_result"
    }
   ],
   "source": [
    "df.corr(numeric_only=True)"
   ]
  },
  {
   "cell_type": "code",
   "execution_count": 76,
   "id": "f1ea83a4",
   "metadata": {},
   "outputs": [
    {
     "data": {
      "text/plain": [
       "<AxesSubplot:>"
      ]
     },
     "execution_count": 76,
     "metadata": {},
     "output_type": "execute_result"
    },
    {
     "data": {
      "image/png": "[encoded data removed]",
      "text/plain": [
       "<Figure size 640x480 with 2 Axes>"
      ]
     },
     "metadata": {},
     "output_type": "display_data"
    }
   ],
   "source": [
    "sns.heatmap(df.corr(numeric_only=True))"
   ]
  },
  {
   "cell_type": "code",
   "execution_count": 77,
   "id": "357b8a95",
   "metadata": {},
   "outputs": [],
   "source": [
    "# obj=df[['Brand me']]\n",
    "# Y=df['Price']"
   ]
  },
  {
   "cell_type": "code",
   "execution_count": 78,
   "id": "aa9c2dcf",
   "metadata": {},
   "outputs": [],
   "source": [
    "# from sklearn.preprocessing import LabelEncoder\n",
    "# for col in obj.columns:\n",
    "#     lab=LabelEncoder()\n",
    "#     obj[col]=lab.fit_transform(obj[col])\n",
    "# from sklearn.feature_selection import chi2,SelectKBest\n",
    "# chi2_selector=SelectKBest(score_func=chi2,k='all')\n",
    "# chi2_selector.fit(obj,Y)\n",
    "# chi_score=chi2_selector.scores_\n",
    "# for feature,score in zip(obj.columns,chi_score):\n",
    "#     print(f\"{feature}:{score:.2f}\")"
   ]
  },
  {
   "cell_type": "code",
   "execution_count": 79,
   "id": "0b61b973",
   "metadata": {},
   "outputs": [],
   "source": [
    "df['Ratings']=df['Ratings'].fillna(df['Ratings'].mean())\n",
    "df['ROM']=df['ROM'].fillna(df['ROM'].mean())\n",
    "df['RAM']=df['RAM'].fillna(df['RAM'].mean())\n",
    "df['Mobile_Size']=df['Mobile_Size'].fillna(df['Mobile_Size'].mean())\n",
    "df['Selfi_Cam']=df['Selfi_Cam'].fillna(df['Selfi_Cam'].mean())\n",
    "\n"
   ]
  },
  {
   "cell_type": "code",
   "execution_count": 80,
   "id": "5b5636c2",
   "metadata": {},
   "outputs": [
    {
     "data": {
      "text/plain": [
       "427"
      ]
     },
     "execution_count": 80,
     "metadata": {},
     "output_type": "execute_result"
    }
   ],
   "source": [
    "len(df['Brand me'].unique())"
   ]
  },
  {
   "cell_type": "code",
   "execution_count": 81,
   "id": "dbd14176",
   "metadata": {},
   "outputs": [
    {
     "data": {
      "text/plain": [
       "(836, 10)"
      ]
     },
     "execution_count": 81,
     "metadata": {},
     "output_type": "execute_result"
    }
   ],
   "source": [
    "df['Brand me']=df['Brand me'].apply(lambda x:x.split()[0])\n",
    "df.shape"
   ]
  },
  {
   "cell_type": "code",
   "execution_count": 82,
   "id": "380a2921",
   "metadata": {},
   "outputs": [
    {
     "data": {
      "text/plain": [
       "71"
      ]
     },
     "execution_count": 82,
     "metadata": {},
     "output_type": "execute_result"
    }
   ],
   "source": [
    "len(df['Brand me'].unique())"
   ]
  },
  {
   "cell_type": "code",
   "execution_count": 83,
   "id": "ba48ec98",
   "metadata": {},
   "outputs": [],
   "source": [
    "df1=pd.get_dummies(df['Brand me'],drop_first=True,dtype=int)\n"
   ]
  },
  {
   "cell_type": "code",
   "execution_count": 84,
   "id": "a986048c",
   "metadata": {},
   "outputs": [
    {
     "data": {
      "text/html": [
       "<div>\n",
       "<style scoped>\n",
       "    .dataframe tbody tr th:only-of-type {\n",
       "        vertical-align: middle;\n",
       "    }\n",
       "\n",
       "    .dataframe tbody tr th {\n",
       "        vertical-align: top;\n",
       "    }\n",
       "\n",
       "    .dataframe thead th {\n",
       "        text-align: right;\n",
       "    }\n",
       "</style>\n",
       "<table border=\"1\" class=\"dataframe\">\n",
       "  <thead>\n",
       "    <tr style=\"text-align: right;\">\n",
       "      <th></th>\n",
       "      <th>Apple</th>\n",
       "      <th>Blacear</th>\n",
       "      <th>Blacerry</th>\n",
       "      <th>Black</th>\n",
       "      <th>BlackZone</th>\n",
       "      <th>Callbar</th>\n",
       "      <th>Detel</th>\n",
       "      <th>Dublin</th>\n",
       "      <th>Easyfone</th>\n",
       "      <th>Ecotel</th>\n",
       "      <th>...</th>\n",
       "      <th>Snexian</th>\n",
       "      <th>Ssky</th>\n",
       "      <th>Tecno</th>\n",
       "      <th>Tork</th>\n",
       "      <th>Trio</th>\n",
       "      <th>Vivo</th>\n",
       "      <th>Wizphone</th>\n",
       "      <th>Yuho</th>\n",
       "      <th>iQOO</th>\n",
       "      <th>tecno</th>\n",
       "    </tr>\n",
       "  </thead>\n",
       "  <tbody>\n",
       "    <tr>\n",
       "      <th>0</th>\n",
       "      <td>0</td>\n",
       "      <td>0</td>\n",
       "      <td>0</td>\n",
       "      <td>0</td>\n",
       "      <td>0</td>\n",
       "      <td>0</td>\n",
       "      <td>0</td>\n",
       "      <td>0</td>\n",
       "      <td>0</td>\n",
       "      <td>0</td>\n",
       "      <td>...</td>\n",
       "      <td>0</td>\n",
       "      <td>0</td>\n",
       "      <td>0</td>\n",
       "      <td>0</td>\n",
       "      <td>0</td>\n",
       "      <td>0</td>\n",
       "      <td>0</td>\n",
       "      <td>0</td>\n",
       "      <td>0</td>\n",
       "      <td>0</td>\n",
       "    </tr>\n",
       "    <tr>\n",
       "      <th>1</th>\n",
       "      <td>0</td>\n",
       "      <td>0</td>\n",
       "      <td>0</td>\n",
       "      <td>0</td>\n",
       "      <td>0</td>\n",
       "      <td>0</td>\n",
       "      <td>0</td>\n",
       "      <td>0</td>\n",
       "      <td>0</td>\n",
       "      <td>0</td>\n",
       "      <td>...</td>\n",
       "      <td>0</td>\n",
       "      <td>0</td>\n",
       "      <td>0</td>\n",
       "      <td>0</td>\n",
       "      <td>0</td>\n",
       "      <td>0</td>\n",
       "      <td>0</td>\n",
       "      <td>0</td>\n",
       "      <td>0</td>\n",
       "      <td>0</td>\n",
       "    </tr>\n",
       "    <tr>\n",
       "      <th>2</th>\n",
       "      <td>0</td>\n",
       "      <td>0</td>\n",
       "      <td>0</td>\n",
       "      <td>0</td>\n",
       "      <td>0</td>\n",
       "      <td>0</td>\n",
       "      <td>0</td>\n",
       "      <td>0</td>\n",
       "      <td>0</td>\n",
       "      <td>0</td>\n",
       "      <td>...</td>\n",
       "      <td>0</td>\n",
       "      <td>0</td>\n",
       "      <td>0</td>\n",
       "      <td>0</td>\n",
       "      <td>0</td>\n",
       "      <td>0</td>\n",
       "      <td>0</td>\n",
       "      <td>0</td>\n",
       "      <td>0</td>\n",
       "      <td>0</td>\n",
       "    </tr>\n",
       "    <tr>\n",
       "      <th>3</th>\n",
       "      <td>0</td>\n",
       "      <td>0</td>\n",
       "      <td>0</td>\n",
       "      <td>0</td>\n",
       "      <td>0</td>\n",
       "      <td>0</td>\n",
       "      <td>0</td>\n",
       "      <td>0</td>\n",
       "      <td>0</td>\n",
       "      <td>0</td>\n",
       "      <td>...</td>\n",
       "      <td>0</td>\n",
       "      <td>0</td>\n",
       "      <td>0</td>\n",
       "      <td>0</td>\n",
       "      <td>0</td>\n",
       "      <td>0</td>\n",
       "      <td>0</td>\n",
       "      <td>0</td>\n",
       "      <td>0</td>\n",
       "      <td>0</td>\n",
       "    </tr>\n",
       "    <tr>\n",
       "      <th>4</th>\n",
       "      <td>0</td>\n",
       "      <td>0</td>\n",
       "      <td>0</td>\n",
       "      <td>0</td>\n",
       "      <td>0</td>\n",
       "      <td>0</td>\n",
       "      <td>0</td>\n",
       "      <td>0</td>\n",
       "      <td>0</td>\n",
       "      <td>0</td>\n",
       "      <td>...</td>\n",
       "      <td>0</td>\n",
       "      <td>0</td>\n",
       "      <td>0</td>\n",
       "      <td>0</td>\n",
       "      <td>0</td>\n",
       "      <td>0</td>\n",
       "      <td>0</td>\n",
       "      <td>0</td>\n",
       "      <td>0</td>\n",
       "      <td>0</td>\n",
       "    </tr>\n",
       "    <tr>\n",
       "      <th>...</th>\n",
       "      <td>...</td>\n",
       "      <td>...</td>\n",
       "      <td>...</td>\n",
       "      <td>...</td>\n",
       "      <td>...</td>\n",
       "      <td>...</td>\n",
       "      <td>...</td>\n",
       "      <td>...</td>\n",
       "      <td>...</td>\n",
       "      <td>...</td>\n",
       "      <td>...</td>\n",
       "      <td>...</td>\n",
       "      <td>...</td>\n",
       "      <td>...</td>\n",
       "      <td>...</td>\n",
       "      <td>...</td>\n",
       "      <td>...</td>\n",
       "      <td>...</td>\n",
       "      <td>...</td>\n",
       "      <td>...</td>\n",
       "      <td>...</td>\n",
       "    </tr>\n",
       "    <tr>\n",
       "      <th>831</th>\n",
       "      <td>0</td>\n",
       "      <td>0</td>\n",
       "      <td>0</td>\n",
       "      <td>0</td>\n",
       "      <td>0</td>\n",
       "      <td>0</td>\n",
       "      <td>0</td>\n",
       "      <td>0</td>\n",
       "      <td>0</td>\n",
       "      <td>0</td>\n",
       "      <td>...</td>\n",
       "      <td>0</td>\n",
       "      <td>0</td>\n",
       "      <td>0</td>\n",
       "      <td>0</td>\n",
       "      <td>0</td>\n",
       "      <td>0</td>\n",
       "      <td>0</td>\n",
       "      <td>0</td>\n",
       "      <td>0</td>\n",
       "      <td>0</td>\n",
       "    </tr>\n",
       "    <tr>\n",
       "      <th>832</th>\n",
       "      <td>0</td>\n",
       "      <td>0</td>\n",
       "      <td>0</td>\n",
       "      <td>0</td>\n",
       "      <td>0</td>\n",
       "      <td>0</td>\n",
       "      <td>0</td>\n",
       "      <td>0</td>\n",
       "      <td>0</td>\n",
       "      <td>0</td>\n",
       "      <td>...</td>\n",
       "      <td>0</td>\n",
       "      <td>0</td>\n",
       "      <td>0</td>\n",
       "      <td>0</td>\n",
       "      <td>0</td>\n",
       "      <td>0</td>\n",
       "      <td>0</td>\n",
       "      <td>0</td>\n",
       "      <td>0</td>\n",
       "      <td>0</td>\n",
       "    </tr>\n",
       "    <tr>\n",
       "      <th>833</th>\n",
       "      <td>0</td>\n",
       "      <td>0</td>\n",
       "      <td>0</td>\n",
       "      <td>0</td>\n",
       "      <td>0</td>\n",
       "      <td>0</td>\n",
       "      <td>0</td>\n",
       "      <td>0</td>\n",
       "      <td>0</td>\n",
       "      <td>0</td>\n",
       "      <td>...</td>\n",
       "      <td>0</td>\n",
       "      <td>0</td>\n",
       "      <td>0</td>\n",
       "      <td>0</td>\n",
       "      <td>0</td>\n",
       "      <td>0</td>\n",
       "      <td>0</td>\n",
       "      <td>0</td>\n",
       "      <td>0</td>\n",
       "      <td>0</td>\n",
       "    </tr>\n",
       "    <tr>\n",
       "      <th>834</th>\n",
       "      <td>0</td>\n",
       "      <td>0</td>\n",
       "      <td>0</td>\n",
       "      <td>0</td>\n",
       "      <td>0</td>\n",
       "      <td>0</td>\n",
       "      <td>0</td>\n",
       "      <td>0</td>\n",
       "      <td>0</td>\n",
       "      <td>0</td>\n",
       "      <td>...</td>\n",
       "      <td>0</td>\n",
       "      <td>0</td>\n",
       "      <td>0</td>\n",
       "      <td>0</td>\n",
       "      <td>0</td>\n",
       "      <td>0</td>\n",
       "      <td>0</td>\n",
       "      <td>0</td>\n",
       "      <td>0</td>\n",
       "      <td>0</td>\n",
       "    </tr>\n",
       "    <tr>\n",
       "      <th>835</th>\n",
       "      <td>0</td>\n",
       "      <td>1</td>\n",
       "      <td>0</td>\n",
       "      <td>0</td>\n",
       "      <td>0</td>\n",
       "      <td>0</td>\n",
       "      <td>0</td>\n",
       "      <td>0</td>\n",
       "      <td>0</td>\n",
       "      <td>0</td>\n",
       "      <td>...</td>\n",
       "      <td>0</td>\n",
       "      <td>0</td>\n",
       "      <td>0</td>\n",
       "      <td>0</td>\n",
       "      <td>0</td>\n",
       "      <td>0</td>\n",
       "      <td>0</td>\n",
       "      <td>0</td>\n",
       "      <td>0</td>\n",
       "      <td>0</td>\n",
       "    </tr>\n",
       "  </tbody>\n",
       "</table>\n",
       "<p>836 rows × 70 columns</p>\n",
       "</div>"
      ],
      "text/plain": [
       "     Apple  Blacear  Blacerry  Black  BlackZone  Callbar  Detel  Dublin  \\\n",
       "0        0        0         0      0          0        0      0       0   \n",
       "1        0        0         0      0          0        0      0       0   \n",
       "2        0        0         0      0          0        0      0       0   \n",
       "3        0        0         0      0          0        0      0       0   \n",
       "4        0        0         0      0          0        0      0       0   \n",
       "..     ...      ...       ...    ...        ...      ...    ...     ...   \n",
       "831      0        0         0      0          0        0      0       0   \n",
       "832      0        0         0      0          0        0      0       0   \n",
       "833      0        0         0      0          0        0      0       0   \n",
       "834      0        0         0      0          0        0      0       0   \n",
       "835      0        1         0      0          0        0      0       0   \n",
       "\n",
       "     Easyfone  Ecotel  ...  Snexian  Ssky  Tecno  Tork  Trio  Vivo  Wizphone  \\\n",
       "0           0       0  ...        0     0      0     0     0     0         0   \n",
       "1           0       0  ...        0     0      0     0     0     0         0   \n",
       "2           0       0  ...        0     0      0     0     0     0         0   \n",
       "3           0       0  ...        0     0      0     0     0     0         0   \n",
       "4           0       0  ...        0     0      0     0     0     0         0   \n",
       "..        ...     ...  ...      ...   ...    ...   ...   ...   ...       ...   \n",
       "831         0       0  ...        0     0      0     0     0     0         0   \n",
       "832         0       0  ...        0     0      0     0     0     0         0   \n",
       "833         0       0  ...        0     0      0     0     0     0         0   \n",
       "834         0       0  ...        0     0      0     0     0     0         0   \n",
       "835         0       0  ...        0     0      0     0     0     0         0   \n",
       "\n",
       "     Yuho  iQOO  tecno  \n",
       "0       0     0      0  \n",
       "1       0     0      0  \n",
       "2       0     0      0  \n",
       "3       0     0      0  \n",
       "4       0     0      0  \n",
       "..    ...   ...    ...  \n",
       "831     0     0      0  \n",
       "832     0     0      0  \n",
       "833     0     0      0  \n",
       "834     0     0      0  \n",
       "835     0     0      0  \n",
       "\n",
       "[836 rows x 70 columns]"
      ]
     },
     "execution_count": 84,
     "metadata": {},
     "output_type": "execute_result"
    }
   ],
   "source": [
    "df1"
   ]
  },
  {
   "cell_type": "code",
   "execution_count": 85,
   "id": "09f83b3e",
   "metadata": {},
   "outputs": [
    {
     "data": {
      "text/plain": [
       "(836, 80)"
      ]
     },
     "execution_count": 85,
     "metadata": {},
     "output_type": "execute_result"
    }
   ],
   "source": [
    "df2=pd.concat([df,df1],axis=1)\n",
    "df2.shape"
   ]
  },
  {
   "cell_type": "code",
   "execution_count": null,
   "id": "50dd5362",
   "metadata": {},
   "outputs": [],
   "source": []
  },
  {
   "cell_type": "code",
   "execution_count": 86,
   "id": "9fa260cf",
   "metadata": {},
   "outputs": [
    {
     "data": {
      "text/plain": [
       "(836, 78)"
      ]
     },
     "execution_count": 86,
     "metadata": {},
     "output_type": "execute_result"
    }
   ],
   "source": [
    "df2.drop(['Brand me','Unnamed: 0'],axis=1,inplace=True)\n",
    "df2.shape"
   ]
  },
  {
   "cell_type": "code",
   "execution_count": 87,
   "id": "219beca3",
   "metadata": {},
   "outputs": [
    {
     "data": {
      "text/plain": [
       "<AxesSubplot:ylabel='ROM'>"
      ]
     },
     "execution_count": 87,
     "metadata": {},
     "output_type": "execute_result"
    },
    {
     "data": {
      "image/png": "[encoded data removed]",
      "text/plain": [
       "<Figure size 640x480 with 1 Axes>"
      ]
     },
     "metadata": {},
     "output_type": "display_data"
    }
   ],
   "source": [
    "sns.boxplot(y='ROM',data=df)"
   ]
  },
  {
   "cell_type": "code",
   "execution_count": 88,
   "id": "c38f1902",
   "metadata": {},
   "outputs": [
    {
     "name": "stdout",
     "output_type": "stream",
     "text": [
      "32.0\n"
     ]
    }
   ],
   "source": [
    "q1=np.percentile(df['ROM'],25,method='midpoint')\n",
    "q3=np.percentile(df['ROM'],75,method='midpoint')\n",
    "IQR=q3=q1\n",
    "print(IQR)"
   ]
  },
  {
   "cell_type": "code",
   "execution_count": 89,
   "id": "5b735028",
   "metadata": {},
   "outputs": [
    {
     "name": "stdout",
     "output_type": "stream",
     "text": [
      "upper bound: 80.0\n",
      "[ True False False False  True  True  True  True  True  True False False\n",
      " False False  True  True False  True  True False False False False False\n",
      " False False False False False False False  True False  True False  True\n",
      " False False False False False False False  True False False False False\n",
      " False False False False False  True False False False False  True False\n",
      " False False False False False  True  True False False False False False\n",
      " False False  True False False False False False  True False False False\n",
      "  True False False False False False False False False False False False\n",
      " False False False  True False False False False False False  True False\n",
      " False False False  True False  True  True False False False False False\n",
      " False False False False False False False False False False False False\n",
      " False False False False  True  True False False  True False False False\n",
      " False False False False False False False False False False False False\n",
      " False False  True False False False False False False False False False\n",
      " False False  True False False False False  True False False False False\n",
      " False False False False False False False False False False False  True\n",
      " False False False False False False False  True False False False False\n",
      " False False  True False False False False False False False False  True\n",
      " False False  True False False  True False False False False False False\n",
      " False False False False False False False False False False False  True\n",
      " False False False False False False False False False False False False\n",
      " False False False False False False False False False False False False\n",
      " False  True  True  True  True  True False False  True False  True False\n",
      " False False False False False  True False False False False False False\n",
      " False False  True False  True  True  True  True False False False False\n",
      "  True  True False  True  True False False False False False False False\n",
      " False False False  True False False  True  True False  True False  True\n",
      "  True False  True  True False False False False  True False False False\n",
      " False  True False False False False  True False False False False False\n",
      "  True  True False False False False False False False False False False\n",
      "  True  True False False  True False False False  True False  True  True\n",
      "  True False False False  True False  True False False False  True  True\n",
      " False False False False False False False False False  True False False\n",
      "  True False False False False False False  True False False False False\n",
      " False False False False False  True  True False False False False False\n",
      " False False False False False False False False False  True  True False\n",
      "  True False False False False  True False False False False False False\n",
      " False False False  True False False False False False False False False\n",
      " False False  True False False False False False False False False False\n",
      " False False False False  True False False False False False False False\n",
      "  True False False False False False False False False False False False\n",
      " False False  True False False  True False  True False False False False\n",
      " False False False False  True False False False False False False False\n",
      " False False False False  True False False False False False False False\n",
      " False False False False  True False False False False False False False\n",
      " False False False False  True False False False False False False False\n",
      " False False False False False  True False False False False False False\n",
      " False False False False False  True False False  True False False False\n",
      "  True False False False  True False  True  True False False False  True\n",
      "  True False False  True  True False  True False False False False  True\n",
      " False False False False False False False  True  True False  True  True\n",
      " False False False False False False False False False False  True False\n",
      " False  True False  True False  True False False False  True  True False\n",
      "  True  True False False False  True False False  True False  True False\n",
      " False False False False False False False  True False  True False  True\n",
      " False False False False False  True False False  True  True False  True\n",
      " False False  True False False False False False  True  True False  True\n",
      "  True  True False  True False False False False False False False False\n",
      " False False False False  True False  True  True False False False False\n",
      " False  True  True False  True False False False False False False  True\n",
      "  True False False False False False False False  True False False False\n",
      "  True  True  True False  True False  True False False  True  True False\n",
      " False  True False False False False  True  True False  True  True  True\n",
      " False False False False False  True  True  True False False  True False\n",
      " False False False False False False  True False False False False False\n",
      " False False False False False False False False False False False False\n",
      " False  True False False False  True False False False False False False\n",
      " False False False False  True False False False False False False False\n",
      " False  True False False False False False False False False False False\n",
      " False  True False False False False False False]\n",
      "175\n"
     ]
    }
   ],
   "source": [
    "upper=q3+1.5*IQR\n",
    "upper_array=np.array(df['ROM']>=upper)\n",
    "print('upper bound:',upper)\n",
    "print(upper_array)\n",
    "print(upper_array.sum())\n",
    "\n",
    "# lower=q1-1.5*IQR\n",
    "# lower_array=np.array(df['total_bill']<=lower)\n",
    "# print('lowerer bound:',lower)\n",
    "# print(lower_array)\n",
    "# print(lower_array.sum())"
   ]
  },
  {
   "cell_type": "code",
   "execution_count": 90,
   "id": "477de53e",
   "metadata": {},
   "outputs": [
    {
     "data": {
      "image/png": "[encoded data removed]",
      "text/plain": [
       "<Figure size 640x480 with 1 Axes>"
      ]
     },
     "metadata": {},
     "output_type": "display_data"
    },
    {
     "data": {
      "image/png": "[encoded data removed]",
      "text/plain": [
       "<Figure size 640x480 with 1 Axes>"
      ]
     },
     "metadata": {},
     "output_type": "display_data"
    }
   ],
   "source": [
    "#outliers removal  \n",
    "import matplotlib.pyplot as plt\n",
    "def removal_box_plot(df,column,threshold):    #argument\n",
    "    sns.boxplot(df[column])    #df['total_bill]  #sns.boxplot(df['total_bill])\n",
    "    plt.title(f'orginal_box_plot of {column}')  #40\n",
    "    plt.show()\n",
    "    \n",
    "    removed_outliers=df[df[column]<=threshold]  \n",
    "\n",
    "    sns.boxplot(removed_outliers[column])\n",
    "    plt.title('Box plot with out outliers of {column}')\n",
    "    plt.show\n",
    "    return removed_outliers\n",
    "\n",
    "threshold_value=120\n",
    "\n",
    "no_outliers=removal_box_plot(df,'ROM',threshold_value)\n",
    "\n",
    "\n"
   ]
  },
  {
   "cell_type": "code",
   "execution_count": 91,
   "id": "9bab3d54",
   "metadata": {},
   "outputs": [],
   "source": [
    "x=df2.drop(['Price'],axis=1)\n",
    "y=df2['Price']"
   ]
  },
  {
   "cell_type": "code",
   "execution_count": 92,
   "id": "1635f17f",
   "metadata": {},
   "outputs": [],
   "source": [
    "from sklearn.model_selection import train_test_split\n",
    "x_train,x_test,y_train,y_test=train_test_split(x,y,test_size=0.30,random_state=42)\n"
   ]
  },
  {
   "cell_type": "code",
   "execution_count": 93,
   "id": "45dc4c18",
   "metadata": {},
   "outputs": [],
   "source": [
    "from sklearn.preprocessing import StandardScaler\n",
    "scaler=StandardScaler()\n",
    "scaler.fit(x_train)\n",
    "x_train=scaler.fit_transform(x_train)\n",
    "x_test=scaler.fit_transform(x_test)"
   ]
  },
  {
   "cell_type": "code",
   "execution_count": null,
   "id": "6c79fdfd",
   "metadata": {},
   "outputs": [
    {
     "data": {
      "text/plain": [
       "array([ 4.63118461e+04, -4.08872799e+03,  1.54017002e+04, -2.28156446e+03,\n",
       "        1.42518127e+04, -7.48091185e+02,  4.50144785e+04, -8.20929075e+03,\n",
       "        1.07250257e+03, -4.08872799e+03,  4.99524173e+03,  3.44723263e+04,\n",
       "        9.88607508e+03,  2.62722596e+04, -6.25699339e+03,  5.41354610e+04,\n",
       "        2.18468104e+03,  1.79892427e+03, -2.28156446e+03,  3.01991568e+03,\n",
       "       -2.48728086e+02,  2.14405699e+04,  1.47588421e+04,  4.67890530e+04,\n",
       "        7.46686820e+04,  7.51529291e+03, -7.26158712e+03,  1.68366529e+03,\n",
       "       -5.29281192e+01,  5.79122577e+04,  5.41354610e+04,  2.14853966e+03,\n",
       "        2.79592145e+04,  3.96168056e+04,  2.15928813e+03,  2.05261087e+02,\n",
       "        1.76109734e+04,  5.06211982e+03,  1.49524869e+05,  2.19657755e+04,\n",
       "        1.07250257e+03,  2.18468104e+03, -8.66254294e+02,  2.97510942e+04,\n",
       "       -1.45705282e+03,  1.83784877e+05, -5.57278647e+02,  2.01126558e+02,\n",
       "        1.53193134e+04,  2.06743060e+04,  1.01732551e+04,  3.96168056e+04,\n",
       "        1.52346561e+04,  2.46769343e+04,  2.11730137e+02, -1.23223671e+03,\n",
       "        3.94493610e+04, -1.26155736e+04,  1.38908765e+05,  7.16840285e+02,\n",
       "        1.24546021e+04,  5.08077698e+03, -4.33260286e+03,  3.91888261e+04,\n",
       "       -7.44422130e+12, -3.93496746e+02,  1.15378044e+04,  2.11730137e+02,\n",
       "       -2.75576516e+03,  2.01292264e+04,  5.54429226e+04, -5.80428911e+03,\n",
       "        1.56762026e+04,  3.29685950e+03,  1.68500565e+04,  6.28791511e+04,\n",
       "        2.32027298e+04, -1.03889652e+03,  3.40066510e+04,  4.01917847e+04,\n",
       "       -2.28156446e+03, -2.75576516e+03,  3.48641170e+04,  8.41720267e+03,\n",
       "        2.13074154e+04,  1.38908765e+05, -4.58550599e+03,  2.01126558e+02,\n",
       "        5.52040923e+03, -4.63794842e+03,  6.70191376e+03,  4.66863475e+04,\n",
       "       -9.00303438e+02, -9.10267231e+03,  1.50588716e+05,  1.20510320e+04,\n",
       "        3.81303372e+04,  9.88607508e+03, -1.43802897e+03,  4.13810892e+04,\n",
       "       -7.99759639e+03,  5.41405424e+04,  5.12265508e+03,  9.54798581e+03,\n",
       "        1.51009446e+05, -1.37329668e+02,  2.00502199e+04,  6.86745808e+02,\n",
       "        4.29615731e+04,  5.98234383e+03,  2.03708872e+04,  2.72817517e+04,\n",
       "        8.82795877e+02,  3.98337341e+04,  3.70627474e+04,  1.01732551e+04,\n",
       "       -5.08689512e+03, -1.96428921e+03,  2.17657810e+04, -8.06416532e+03,\n",
       "        4.88339859e+04,  1.84598672e+03, -3.49203850e+03, -9.43987025e+03,\n",
       "        1.11956502e+03,  3.44288202e+02,  5.41405424e+04,  3.21028903e+04,\n",
       "        3.52326875e+04, -3.15696988e+04,  2.75459752e-01, -4.04162357e+03,\n",
       "        8.48814529e+03,  5.54429226e+04, -8.06077682e+03,  2.11875025e+02,\n",
       "        4.36268227e+04,  1.15378044e+04,  5.83614104e+04,  5.62445952e+03,\n",
       "       -1.09668896e+03,  2.45626067e+04, -1.60413854e+02,  4.08578176e+02,\n",
       "        3.94493610e+04,  4.66863475e+04, -1.87283323e+04, -5.08689512e+03,\n",
       "        6.69712712e+03, -7.47834854e+03,  5.54429226e+04,  1.54017002e+04,\n",
       "        3.11467847e+03, -1.61412853e+03, -4.04162357e+03,  1.03106056e+04,\n",
       "        3.99450480e+03,  3.70627474e+04, -4.29781184e+03,  1.39177986e+02,\n",
       "       -9.23301627e+03,  3.10616985e+04,  2.73862280e+04,  4.99524173e+03,\n",
       "        2.83645328e+04, -1.69649909e+04,  3.27095991e+04,  1.50776814e+05,\n",
       "        4.02782643e+03,  7.51529291e+03, -7.01844518e+03, -2.04690696e+03,\n",
       "        5.54429226e+04,  2.30984996e+04,  1.96313498e+04,  1.64647938e+04,\n",
       "        2.18468104e+03,  8.32225016e+03,  4.99524173e+03,  4.83085317e+04,\n",
       "        2.81397120e+04,  1.69338678e+05, -7.07775437e+16,  6.24995310e+02,\n",
       "        2.70220771e+04,  4.29715722e+03,  1.11460381e+04,  3.02905025e+04,\n",
       "        1.26141152e+04,  4.02029166e+04, -4.61582182e+03,  1.50768417e+04,\n",
       "        2.19657755e+04,  1.64148894e+03,  4.51228106e+03,  2.91930045e+02,\n",
       "        1.76109734e+04, -3.36631200e+03,  8.12834440e+03,  1.16062312e+04,\n",
       "        1.07250257e+03, -1.04654305e+04,  1.76109734e+04,  3.63667343e+03,\n",
       "        1.01272279e+04,  1.28884759e+03,  1.58032634e+04, -7.44422130e+12,\n",
       "        1.30919894e+04,  4.79868383e+02, -1.49156604e+04,  3.38220608e+03,\n",
       "        8.93159984e+00,  4.88339859e+04,  2.80977657e+04,  3.72055951e+03,\n",
       "        5.68626320e+03,  1.54219530e+04,  6.08602562e+03,  2.97457200e+04,\n",
       "        8.64873580e+03,  3.11467847e+03,  4.95602683e+04,  3.96168056e+04,\n",
       "        1.16062312e+04,  1.50776814e+05,  1.68366529e+03,  8.85338812e+04,\n",
       "        2.39529265e+03, -9.96227625e+03,  1.48210645e+04, -3.08504137e+03,\n",
       "       -1.29563782e+03,  4.32155087e+04,  1.44947026e+05,  3.25249132e+04,\n",
       "        1.44866413e+05,  5.06211982e+03,  2.57133786e+04,  1.30919894e+04,\n",
       "        5.41405424e+04,  2.19657755e+04, -1.03889652e+03, -3.05871260e+03,\n",
       "        1.07250257e+03,  1.61333077e+04,  5.62445952e+03,  9.92823661e+03,\n",
       "        2.14405699e+04, -2.21706719e+03,  1.24546021e+04])"
      ]
     },
     "execution_count": 105,
     "metadata": {},
     "output_type": "execute_result"
    }
   ],
   "source": [
    "from sklearn.linear_model import LinearRegression\n",
    "model=LinearRegression()\n",
    "model.fit(x_train,y_train)\n",
    "y_pred=model.predict(x_test)\n",
    "\n"
   ]
  },
  {
   "cell_type": "code",
   "execution_count": 108,
   "id": "fe6ad0cf",
   "metadata": {},
   "outputs": [
    {
     "data": {
      "text/html": [
       "<div>\n",
       "<style scoped>\n",
       "    .dataframe tbody tr th:only-of-type {\n",
       "        vertical-align: middle;\n",
       "    }\n",
       "\n",
       "    .dataframe tbody tr th {\n",
       "        vertical-align: top;\n",
       "    }\n",
       "\n",
       "    .dataframe thead th {\n",
       "        text-align: right;\n",
       "    }\n",
       "</style>\n",
       "<table border=\"1\" class=\"dataframe\">\n",
       "  <thead>\n",
       "    <tr style=\"text-align: right;\">\n",
       "      <th></th>\n",
       "      <th>Actual_value</th>\n",
       "      <th>predicted_value</th>\n",
       "    </tr>\n",
       "  </thead>\n",
       "  <tbody>\n",
       "    <tr>\n",
       "      <th>611</th>\n",
       "      <td>37990</td>\n",
       "      <td>46311.846128</td>\n",
       "    </tr>\n",
       "    <tr>\n",
       "      <th>823</th>\n",
       "      <td>1695</td>\n",
       "      <td>-4088.727990</td>\n",
       "    </tr>\n",
       "    <tr>\n",
       "      <th>290</th>\n",
       "      <td>18999</td>\n",
       "      <td>15401.700162</td>\n",
       "    </tr>\n",
       "    <tr>\n",
       "      <th>801</th>\n",
       "      <td>1599</td>\n",
       "      <td>-2281.564463</td>\n",
       "    </tr>\n",
       "    <tr>\n",
       "      <th>168</th>\n",
       "      <td>15999</td>\n",
       "      <td>14251.812678</td>\n",
       "    </tr>\n",
       "    <tr>\n",
       "      <th>...</th>\n",
       "      <td>...</td>\n",
       "      <td>...</td>\n",
       "    </tr>\n",
       "    <tr>\n",
       "      <th>579</th>\n",
       "      <td>1329</td>\n",
       "      <td>5624.459519</td>\n",
       "    </tr>\n",
       "    <tr>\n",
       "      <th>275</th>\n",
       "      <td>10990</td>\n",
       "      <td>9928.236613</td>\n",
       "    </tr>\n",
       "    <tr>\n",
       "      <th>554</th>\n",
       "      <td>13999</td>\n",
       "      <td>21440.569877</td>\n",
       "    </tr>\n",
       "    <tr>\n",
       "      <th>145</th>\n",
       "      <td>650</td>\n",
       "      <td>-2217.067189</td>\n",
       "    </tr>\n",
       "    <tr>\n",
       "      <th>306</th>\n",
       "      <td>1199</td>\n",
       "      <td>12454.602120</td>\n",
       "    </tr>\n",
       "  </tbody>\n",
       "</table>\n",
       "<p>251 rows × 2 columns</p>\n",
       "</div>"
      ],
      "text/plain": [
       "     Actual_value  predicted_value\n",
       "611         37990     46311.846128\n",
       "823          1695     -4088.727990\n",
       "290         18999     15401.700162\n",
       "801          1599     -2281.564463\n",
       "168         15999     14251.812678\n",
       "..            ...              ...\n",
       "579          1329      5624.459519\n",
       "275         10990      9928.236613\n",
       "554         13999     21440.569877\n",
       "145           650     -2217.067189\n",
       "306          1199     12454.602120\n",
       "\n",
       "[251 rows x 2 columns]"
      ]
     },
     "execution_count": 108,
     "metadata": {},
     "output_type": "execute_result"
    }
   ],
   "source": [
    "df3=pd.DataFrame({'Actual_value':y_test,'predicted_value':y_pred})\n",
    "df3\n"
   ]
  },
  {
   "cell_type": "code",
   "execution_count": 109,
   "id": "34c7cb84",
   "metadata": {},
   "outputs": [
    {
     "name": "stdout",
     "output_type": "stream",
     "text": [
      "mean absolue error is 282041562213111.5\n"
     ]
    }
   ],
   "source": [
    "from sklearn.metrics import mean_absolute_error\n",
    "print('mean absolue error is',mean_absolute_error(y_test,y_pred))"
   ]
  }
 ],
 "metadata": {
  "kernelspec": {
   "display_name": "Python 3",
   "language": "python",
   "name": "python3"
  },
  "language_info": {
   "codemirror_mode": {
    "name": "ipython",
    "version": 3
   },
   "file_extension": ".py",
   "mimetype": "text/x-python",
   "name": "python",
   "nbconvert_exporter": "python",
   "pygments_lexer": "ipython3",
   "version": "3.10.4"
  }
 },
 "nbformat": 4,
 "nbformat_minor": 5
}
