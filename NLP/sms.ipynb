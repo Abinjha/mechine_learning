{
 "cells": [
  {
   "cell_type": "code",
   "execution_count": 1,
   "id": "7f7545e5",
   "metadata": {},
   "outputs": [],
   "source": [
    "import pandas as pd\n",
    "import numpy as np\n",
    "import matplotlib.pyplot as plt\n",
    "import seaborn as sns\n",
    "import nltk\n",
    "import re"
   ]
  },
  {
   "cell_type": "code",
   "execution_count": 2,
   "id": "df310f2f",
   "metadata": {},
   "outputs": [],
   "source": [
    "df1=pd.read_csv('SMS_train (1) (1).csv',encoding='ISO-8859-1')\n",
    "df2=pd.read_csv('SMS_train (1) (1).csv',encoding='ISO-8859-1')\n"
   ]
  },
  {
   "cell_type": "code",
   "execution_count": 3,
   "id": "0cd4dda9",
   "metadata": {},
   "outputs": [],
   "source": [
    "df=pd.concat([df1,df2],axis=0,ignore_index=True)"
   ]
  },
  {
   "cell_type": "code",
   "execution_count": 4,
   "id": "e0398cdd",
   "metadata": {},
   "outputs": [
    {
     "data": {
      "text/plain": [
       "(1914, 3)"
      ]
     },
     "execution_count": 4,
     "metadata": {},
     "output_type": "execute_result"
    }
   ],
   "source": [
    "df.shape"
   ]
  },
  {
   "cell_type": "code",
   "execution_count": 5,
   "id": "4f92436d",
   "metadata": {},
   "outputs": [
    {
     "data": {
      "text/plain": [
       "Index(['S. No.', 'Message_body', 'Label'], dtype='object')"
      ]
     },
     "execution_count": 5,
     "metadata": {},
     "output_type": "execute_result"
    }
   ],
   "source": [
    "df.columns"
   ]
  },
  {
   "cell_type": "code",
   "execution_count": 6,
   "id": "71c933bc",
   "metadata": {},
   "outputs": [
    {
     "data": {
      "text/html": [
       "<div>\n",
       "<style scoped>\n",
       "    .dataframe tbody tr th:only-of-type {\n",
       "        vertical-align: middle;\n",
       "    }\n",
       "\n",
       "    .dataframe tbody tr th {\n",
       "        vertical-align: top;\n",
       "    }\n",
       "\n",
       "    .dataframe thead th {\n",
       "        text-align: right;\n",
       "    }\n",
       "</style>\n",
       "<table border=\"1\" class=\"dataframe\">\n",
       "  <thead>\n",
       "    <tr style=\"text-align: right;\">\n",
       "      <th></th>\n",
       "      <th>S. No.</th>\n",
       "      <th>Message_body</th>\n",
       "      <th>Label</th>\n",
       "    </tr>\n",
       "  </thead>\n",
       "  <tbody>\n",
       "    <tr>\n",
       "      <th>0</th>\n",
       "      <td>1</td>\n",
       "      <td>Rofl. Its true to its name</td>\n",
       "      <td>Non-Spam</td>\n",
       "    </tr>\n",
       "    <tr>\n",
       "      <th>1</th>\n",
       "      <td>2</td>\n",
       "      <td>The guy did some bitching but I acted like i'd...</td>\n",
       "      <td>Non-Spam</td>\n",
       "    </tr>\n",
       "    <tr>\n",
       "      <th>2</th>\n",
       "      <td>3</td>\n",
       "      <td>Pity, * was in mood for that. So...any other s...</td>\n",
       "      <td>Non-Spam</td>\n",
       "    </tr>\n",
       "    <tr>\n",
       "      <th>3</th>\n",
       "      <td>4</td>\n",
       "      <td>Will ü b going to esplanade fr home?</td>\n",
       "      <td>Non-Spam</td>\n",
       "    </tr>\n",
       "    <tr>\n",
       "      <th>4</th>\n",
       "      <td>5</td>\n",
       "      <td>This is the 2nd time we have tried 2 contact u...</td>\n",
       "      <td>Spam</td>\n",
       "    </tr>\n",
       "  </tbody>\n",
       "</table>\n",
       "</div>"
      ],
      "text/plain": [
       "   S. No.                                       Message_body     Label\n",
       "0       1                         Rofl. Its true to its name  Non-Spam\n",
       "1       2  The guy did some bitching but I acted like i'd...  Non-Spam\n",
       "2       3  Pity, * was in mood for that. So...any other s...  Non-Spam\n",
       "3       4               Will ü b going to esplanade fr home?  Non-Spam\n",
       "4       5  This is the 2nd time we have tried 2 contact u...      Spam"
      ]
     },
     "execution_count": 6,
     "metadata": {},
     "output_type": "execute_result"
    }
   ],
   "source": [
    "df.head()\n"
   ]
  },
  {
   "cell_type": "code",
   "execution_count": 7,
   "id": "8bec37d9",
   "metadata": {},
   "outputs": [
    {
     "data": {
      "text/html": [
       "<div>\n",
       "<style scoped>\n",
       "    .dataframe tbody tr th:only-of-type {\n",
       "        vertical-align: middle;\n",
       "    }\n",
       "\n",
       "    .dataframe tbody tr th {\n",
       "        vertical-align: top;\n",
       "    }\n",
       "\n",
       "    .dataframe thead th {\n",
       "        text-align: right;\n",
       "    }\n",
       "</style>\n",
       "<table border=\"1\" class=\"dataframe\">\n",
       "  <thead>\n",
       "    <tr style=\"text-align: right;\">\n",
       "      <th></th>\n",
       "      <th>S. No.</th>\n",
       "      <th>Message_body</th>\n",
       "      <th>Label</th>\n",
       "    </tr>\n",
       "  </thead>\n",
       "  <tbody>\n",
       "    <tr>\n",
       "      <th>1909</th>\n",
       "      <td>953</td>\n",
       "      <td>hows my favourite person today? r u workin har...</td>\n",
       "      <td>Non-Spam</td>\n",
       "    </tr>\n",
       "    <tr>\n",
       "      <th>1910</th>\n",
       "      <td>954</td>\n",
       "      <td>How much you got for cleaning</td>\n",
       "      <td>Non-Spam</td>\n",
       "    </tr>\n",
       "    <tr>\n",
       "      <th>1911</th>\n",
       "      <td>955</td>\n",
       "      <td>Sorry da. I gone mad so many pending works wha...</td>\n",
       "      <td>Non-Spam</td>\n",
       "    </tr>\n",
       "    <tr>\n",
       "      <th>1912</th>\n",
       "      <td>956</td>\n",
       "      <td>Wat time ü finish?</td>\n",
       "      <td>Non-Spam</td>\n",
       "    </tr>\n",
       "    <tr>\n",
       "      <th>1913</th>\n",
       "      <td>957</td>\n",
       "      <td>Just glad to be talking to you.</td>\n",
       "      <td>Non-Spam</td>\n",
       "    </tr>\n",
       "  </tbody>\n",
       "</table>\n",
       "</div>"
      ],
      "text/plain": [
       "      S. No.                                       Message_body     Label\n",
       "1909     953  hows my favourite person today? r u workin har...  Non-Spam\n",
       "1910     954                      How much you got for cleaning  Non-Spam\n",
       "1911     955  Sorry da. I gone mad so many pending works wha...  Non-Spam\n",
       "1912     956                                 Wat time ü finish?  Non-Spam\n",
       "1913     957                    Just glad to be talking to you.  Non-Spam"
      ]
     },
     "execution_count": 7,
     "metadata": {},
     "output_type": "execute_result"
    }
   ],
   "source": [
    "df.tail()"
   ]
  },
  {
   "cell_type": "code",
   "execution_count": 8,
   "id": "48f5f4b0",
   "metadata": {},
   "outputs": [
    {
     "data": {
      "text/plain": [
       "S. No.           int64\n",
       "Message_body    object\n",
       "Label           object\n",
       "dtype: object"
      ]
     },
     "execution_count": 8,
     "metadata": {},
     "output_type": "execute_result"
    }
   ],
   "source": [
    "df.dtypes"
   ]
  },
  {
   "cell_type": "code",
   "execution_count": 9,
   "id": "17458b45",
   "metadata": {},
   "outputs": [
    {
     "data": {
      "text/plain": [
       "S. No.          0\n",
       "Message_body    0\n",
       "Label           0\n",
       "dtype: int64"
      ]
     },
     "execution_count": 9,
     "metadata": {},
     "output_type": "execute_result"
    }
   ],
   "source": [
    "df.isna().sum()"
   ]
  },
  {
   "cell_type": "code",
   "execution_count": 10,
   "id": "c1619816",
   "metadata": {},
   "outputs": [],
   "source": [
    "df.drop(['S. No.'],inplace=True,axis=1)"
   ]
  },
  {
   "cell_type": "code",
   "execution_count": 11,
   "id": "16cf2fc9",
   "metadata": {},
   "outputs": [
    {
     "data": {
      "text/plain": [
       "Label\n",
       "Non-Spam    1670\n",
       "Spam         244\n",
       "Name: count, dtype: int64"
      ]
     },
     "execution_count": 11,
     "metadata": {},
     "output_type": "execute_result"
    }
   ],
   "source": [
    "x=df['Label'].value_counts()\n",
    "x"
   ]
  },
  {
   "cell_type": "code",
   "execution_count": 12,
   "id": "9019eb0d",
   "metadata": {},
   "outputs": [
    {
     "data": {
      "text/plain": [
       "Text(0.5, 1.0, 'Label')"
      ]
     },
     "execution_count": 12,
     "metadata": {},
     "output_type": "execute_result"
    },
    {
     "data": {
      "image/png": "[encoded data removed]",
      "text/plain": [
       "<Figure size 640x480 with 1 Axes>"
      ]
     },
     "metadata": {},
     "output_type": "display_data"
    }
   ],
   "source": [
    "plt.pie(x,labels=x.index,autopct='%.1f%%') #autopct using for wright percentage in graph\n",
    "plt.legend(loc='lower left')  #loc=upper left,lower left,upper right,lower right\n",
    "plt.tight_layout() #using for avoid legend overlapping\n",
    "plt.title('Label')\n"
   ]
  },
  {
   "cell_type": "code",
   "execution_count": 13,
   "id": "cd8c9599",
   "metadata": {},
   "outputs": [],
   "source": [
    "df['Label']=df['Label'].map({'Spam':1,'Non-Spam':0})"
   ]
  },
  {
   "cell_type": "code",
   "execution_count": 14,
   "id": "cd769eea",
   "metadata": {},
   "outputs": [
    {
     "data": {
      "text/plain": [
       "Message_body    object\n",
       "Label            int64\n",
       "dtype: object"
      ]
     },
     "execution_count": 14,
     "metadata": {},
     "output_type": "execute_result"
    }
   ],
   "source": [
    "df.dtypes"
   ]
  },
  {
   "cell_type": "code",
   "execution_count": 15,
   "id": "e377cd73",
   "metadata": {},
   "outputs": [],
   "source": [
    "sms=df.Message_body"
   ]
  },
  {
   "cell_type": "code",
   "execution_count": 16,
   "id": "3a5d9b13",
   "metadata": {},
   "outputs": [
    {
     "data": {
      "text/plain": [
       "0                             Rofl . Its true to its name\n",
       "1       The guy did some bitching but I acted like i'd...\n",
       "2       Pity , * was in mood for that . So ... any oth...\n",
       "3                   Will ü b going to esplanade fr home ?\n",
       "4       This is the 2nd time we have tried 2 contact u...\n",
       "                              ...                        \n",
       "1909    hows my favourite person today ? r u workin ha...\n",
       "1910                        How much you got for cleaning\n",
       "1911    Sorry da . I gone mad so many pending works wh...\n",
       "1912                                  Wat time ü finish ?\n",
       "1913                     Just glad to be talking to you .\n",
       "Name: Message_body, Length: 1914, dtype: object"
      ]
     },
     "execution_count": 16,
     "metadata": {},
     "output_type": "execute_result"
    }
   ],
   "source": [
    "from nltk.tokenize import TweetTokenizer\n",
    "tk=TweetTokenizer()\n",
    "sms=sms.apply(lambda x:tk.tokenize(x)).apply(lambda x:\" \".join(x))\n",
    "sms\n",
    "\n"
   ]
  },
  {
   "cell_type": "code",
   "execution_count": 17,
   "id": "18c17ade",
   "metadata": {},
   "outputs": [
    {
     "data": {
      "text/plain": [
       "0                             Rofl   Its true to its name\n",
       "1       The guy did some bitching but I acted like i d...\n",
       "2       Pity     was in mood for that   So     any oth...\n",
       "3                   Will   b going to esplanade fr home  \n",
       "4       This is the 2nd time we have tried 2 contact u...\n",
       "                              ...                        \n",
       "1909    hows my favourite person today   r u workin ha...\n",
       "1910                        How much you got for cleaning\n",
       "1911    Sorry da   I gone mad so many pending works wh...\n",
       "1912                                  Wat time   finish  \n",
       "1913                     Just glad to be talking to you  \n",
       "Name: Message_body, Length: 1914, dtype: object"
      ]
     },
     "execution_count": 17,
     "metadata": {},
     "output_type": "execute_result"
    }
   ],
   "source": [
    "sms=sms.str.replace('[^a-zA-Z0-9]',\" \",regex=True)\n",
    "sms"
   ]
  },
  {
   "cell_type": "code",
   "execution_count": 18,
   "id": "4270e919",
   "metadata": {},
   "outputs": [
    {
     "data": {
      "text/plain": [
       "0                                  Rofl Its true its name\n",
       "1       The guy did some bitching but acted like inter...\n",
       "2            Pity was mood for that any other suggestions\n",
       "3                               Will going esplanade home\n",
       "4       This the 2nd time have tried contact have won ...\n",
       "                              ...                        \n",
       "1909    hows favourite person today workin hard couldn...\n",
       "1910                        How much you got for cleaning\n",
       "1911               Sorry gone mad many pending works what\n",
       "1912                                      Wat time finish\n",
       "1913                                Just glad talking you\n",
       "Name: Message_body, Length: 1914, dtype: object"
      ]
     },
     "execution_count": 18,
     "metadata": {},
     "output_type": "execute_result"
    }
   ],
   "source": [
    "sms=sms.apply(lambda x:' '.join([w for w in tk.tokenize(x) if len(w)>=3]))\n",
    "sms"
   ]
  },
  {
   "cell_type": "code",
   "execution_count": 19,
   "id": "625a0b4c",
   "metadata": {},
   "outputs": [
    {
     "data": {
      "text/plain": [
       "0                                    rofl it true it name\n",
       "1       the guy did some bitch but act like interest b...\n",
       "2                piti was mood for that ani other suggest\n",
       "3                                   will go esplanad home\n",
       "4       this the 2nd time have tri contact have won th...\n",
       "                              ...                        \n",
       "1909    how favourit person today workin hard couldn s...\n",
       "1910                           how much you got for clean\n",
       "1911                   sorri gone mad mani pend work what\n",
       "1912                                      wat time finish\n",
       "1913                                   just glad talk you\n",
       "Name: Message_body, Length: 1914, dtype: object"
      ]
     },
     "execution_count": 19,
     "metadata": {},
     "output_type": "execute_result"
    }
   ],
   "source": [
    "from nltk.stem import SnowballStemmer\n",
    "sp=SnowballStemmer('english')\n",
    "sms=sms.apply(lambda x:[sp.stem(i.lower()) for i in tk.tokenize(x)]).apply(lambda x:' '.join(x))\n",
    "sms"
   ]
  },
  {
   "cell_type": "code",
   "execution_count": 20,
   "id": "a090e774",
   "metadata": {},
   "outputs": [
    {
     "data": {
      "text/plain": [
       "0                                          rofl true name\n",
       "1       guy bitch act like interest buy someth els nex...\n",
       "2                                   piti mood ani suggest\n",
       "3                                        go esplanad home\n",
       "4       2nd time tri contact 750 pound prize claim eas...\n",
       "                              ...                        \n",
       "1909    favourit person today workin hard sleep last n...\n",
       "1910                                       much got clean\n",
       "1911                        sorri gone mad mani pend work\n",
       "1912                                      wat time finish\n",
       "1913                                            glad talk\n",
       "Name: Message_body, Length: 1914, dtype: object"
      ]
     },
     "execution_count": 20,
     "metadata": {},
     "output_type": "execute_result"
    }
   ],
   "source": [
    "from nltk.corpus import stopwords\n",
    "stop=stopwords.words('english')\n",
    "sms=sms.apply(lambda x:[i for i in tk.tokenize(x) if i not in stop ]).apply(lambda x:' '.join(x))\n",
    "sms"
   ]
  },
  {
   "cell_type": "code",
   "execution_count": 21,
   "id": "54bbc34b",
   "metadata": {},
   "outputs": [
    {
     "data": {
      "text/plain": [
       "<1914x2535 sparse matrix of type '<class 'numpy.float64'>'\n",
       "\twith 14716 stored elements in Compressed Sparse Row format>"
      ]
     },
     "execution_count": 21,
     "metadata": {},
     "output_type": "execute_result"
    }
   ],
   "source": [
    "from sklearn.feature_extraction.text import TfidfVectorizer\n",
    "tf=TfidfVectorizer()\n",
    "data=tf.fit_transform(sms)\n",
    "data"
   ]
  },
  {
   "cell_type": "code",
   "execution_count": 22,
   "id": "d5bbcfcf",
   "metadata": {},
   "outputs": [
    {
     "name": "stdout",
     "output_type": "stream",
     "text": [
      "  (0, 1524)\t0.5169435228110243\n",
      "  (0, 2305)\t0.5282466923116645\n",
      "  (0, 1886)\t0.6735909933227386\n",
      "  (1, 959)\t0.21128145741770968\n",
      "  (1, 1000)\t0.3227948282733482\n",
      "  (1, 2429)\t0.22911557563986584\n",
      "  (1, 1550)\t0.26703814284552896\n",
      "  (1, 818)\t0.2968694459464132\n",
      "  (1, 2055)\t0.2797928331631829\n",
      "  (1, 495)\t0.27094406361947804\n",
      "  (1, 1201)\t0.3227948282733482\n",
      "  (1, 1328)\t0.2151873781916588\n",
      "  (1, 248)\t0.35262613137423243\n",
      "  (1, 430)\t0.3785515137011675\n",
      "  (1, 1064)\t0.26341146306336427\n",
      "  (2, 2146)\t0.511430427515646\n",
      "  (2, 304)\t0.36819602225025855\n",
      "  (2, 1485)\t0.5490312409190622\n",
      "  (2, 1692)\t0.5490312409190622\n",
      "  (3, 1129)\t0.46919321748886317\n",
      "  (3, 843)\t0.7331380374864307\n",
      "  (3, 1021)\t0.492307162910508\n",
      "  (4, 1810)\t0.24416744435796325\n",
      "  (4, 1529)\t0.2876035318526271\n",
      "  (4, 1455)\t0.25445037594403663\n",
      "  :\t:\n",
      "  (1908, 2212)\t0.1764370113030202\n",
      "  (1909, 1807)\t0.3779820398252466\n",
      "  (1909, 898)\t0.3779820398252466\n",
      "  (1909, 2478)\t0.35209565834079687\n",
      "  (1909, 1533)\t0.35209565834079687\n",
      "  (1909, 1086)\t0.33504473475577945\n",
      "  (1909, 1558)\t0.2900801364084448\n",
      "  (1909, 2264)\t0.22369911901198097\n",
      "  (1909, 1296)\t0.2564673214879127\n",
      "  (1909, 1669)\t0.2844437135522718\n",
      "  (1909, 2027)\t0.2705364689844479\n",
      "  (1910, 584)\t0.7022928237462913\n",
      "  (1910, 1040)\t0.450379282614872\n",
      "  (1910, 1511)\t0.5513105218529515\n",
      "  (1911, 1660)\t0.5044759942246134\n",
      "  (1911, 1031)\t0.44716946274428304\n",
      "  (1911, 1406)\t0.351034812725518\n",
      "  (1911, 1394)\t0.46992658007180593\n",
      "  (1911, 2477)\t0.3102514994883298\n",
      "  (1911, 2064)\t0.3243933098910903\n",
      "  (1912, 922)\t0.6597259315148182\n",
      "  (1912, 2413)\t0.5752041064393719\n",
      "  (1912, 2248)\t0.4836340881515583\n",
      "  (1913, 1020)\t0.7780281051052989\n",
      "  (1913, 2179)\t0.628229470548985\n"
     ]
    }
   ],
   "source": [
    "print(data)"
   ]
  },
  {
   "cell_type": "code",
   "execution_count": 23,
   "id": "c424fb05",
   "metadata": {},
   "outputs": [
    {
     "data": {
      "text/plain": [
       "array([0, 0, 0, ..., 0, 0, 0], dtype=int64)"
      ]
     },
     "execution_count": 23,
     "metadata": {},
     "output_type": "execute_result"
    }
   ],
   "source": [
    "y=df.Label.values\n",
    "y"
   ]
  },
  {
   "cell_type": "code",
   "execution_count": 24,
   "id": "89ce77af",
   "metadata": {},
   "outputs": [],
   "source": [
    "from sklearn.model_selection import train_test_split\n",
    "x_train,x_test,y_train,y_test=train_test_split(data,y,test_size=0.30,random_state=42)"
   ]
  },
  {
   "cell_type": "code",
   "execution_count": 25,
   "id": "d8919e01",
   "metadata": {},
   "outputs": [
    {
     "name": "stdout",
     "output_type": "stream",
     "text": [
      "Class distribution after oversampling: Counter({0: 1161, 1: 1161})\n",
      "Class distribution before oversampling: Counter({0: 1161, 1: 1161})\n"
     ]
    }
   ],
   "source": [
    "#balNCED\n",
    "from imblearn.over_sampling import SMOTE\n",
    "from collections import Counter\n",
    "st=SMOTE(random_state=42)\n",
    "x_res,y_res=st.fit_resample(x_train,y_train)\n",
    "print(\"Class distribution after oversampling:\", Counter(y_res))\n",
    "print(\"Class distribution before oversampling:\", Counter(y_res))"
   ]
  },
  {
   "cell_type": "code",
   "execution_count": 26,
   "id": "fcae35d6",
   "metadata": {},
   "outputs": [
    {
     "name": "stdout",
     "output_type": "stream",
     "text": [
      "model is KNeighborsClassifier()\n",
      "accuracy score is\n",
      "0.9791304347826087\n",
      "classification report is\n",
      "              precision    recall  f1-score   support\n",
      "\n",
      "           0       0.98      1.00      0.99       509\n",
      "           1       1.00      0.82      0.90        66\n",
      "\n",
      "    accuracy                           0.98       575\n",
      "   macro avg       0.99      0.91      0.94       575\n",
      "weighted avg       0.98      0.98      0.98       575\n",
      "\n",
      "****************************************************************************************************\n",
      "model is SVC()\n",
      "accuracy score is\n",
      "0.9860869565217392\n",
      "classification report is\n",
      "              precision    recall  f1-score   support\n",
      "\n",
      "           0       0.98      1.00      0.99       509\n",
      "           1       1.00      0.88      0.94        66\n",
      "\n",
      "    accuracy                           0.99       575\n",
      "   macro avg       0.99      0.94      0.96       575\n",
      "weighted avg       0.99      0.99      0.99       575\n",
      "\n",
      "****************************************************************************************************\n",
      "model is BernoulliNB()\n",
      "accuracy score is\n",
      "0.9843478260869565\n",
      "classification report is\n",
      "              precision    recall  f1-score   support\n",
      "\n",
      "           0       0.98      1.00      0.99       509\n",
      "           1       1.00      0.86      0.93        66\n",
      "\n",
      "    accuracy                           0.98       575\n",
      "   macro avg       0.99      0.93      0.96       575\n",
      "weighted avg       0.98      0.98      0.98       575\n",
      "\n",
      "****************************************************************************************************\n"
     ]
    }
   ],
   "source": [
    "from sklearn.neighbors import KNeighborsClassifier\n",
    "from sklearn.svm import SVC\n",
    "from sklearn.naive_bayes import BernoulliNB\n",
    "from sklearn.metrics import accuracy_score,classification_report\n",
    "knn=KNeighborsClassifier()\n",
    "sv=SVC()\n",
    "mn=BernoulliNB()\n",
    "lst=[knn,sv,mn]\n",
    "for i in lst:\n",
    "    print('model is',i)\n",
    "    i.fit(x_res,y_res)\n",
    "    y_pred=i.predict(x_test)\n",
    "    print('accuracy score is')\n",
    "    print(accuracy_score(y_test,y_pred))\n",
    "    print('classification report is')\n",
    "    print(classification_report(y_test,y_pred))\n",
    "    print('*'*100)"
   ]
  }
 ],
 "metadata": {
  "kernelspec": {
   "display_name": "Python 3",
   "language": "python",
   "name": "python3"
  },
  "language_info": {
   "codemirror_mode": {
    "name": "ipython",
    "version": 3
   },
   "file_extension": ".py",
   "mimetype": "text/x-python",
   "name": "python",
   "nbconvert_exporter": "python",
   "pygments_lexer": "ipython3",
   "version": "3.10.4"
  }
 },
 "nbformat": 4,
 "nbformat_minor": 5
}
