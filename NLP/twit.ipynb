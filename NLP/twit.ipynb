{
 "cells": [
  {
   "cell_type": "code",
   "execution_count": 1,
   "id": "215bc23f",
   "metadata": {},
   "outputs": [],
   "source": [
    "import numpy as np\n",
    "import pandas as pd\n",
    "import matplotlib.pyplot as plt\n",
    "import seaborn as sns\n",
    "import nltk\n",
    "import re"
   ]
  },
  {
   "cell_type": "code",
   "execution_count": 2,
   "id": "2438873f",
   "metadata": {},
   "outputs": [],
   "source": [
    "df=pd.read_csv('twitter_validation.csv',encoding='ISO-8859-1',header=None)\n",
    "df.columns=['id','social_media','target','reviews']"
   ]
  },
  {
   "cell_type": "code",
   "execution_count": 3,
   "id": "cb42c3f4",
   "metadata": {},
   "outputs": [
    {
     "data": {
      "text/html": [
       "<div>\n",
       "<style scoped>\n",
       "    .dataframe tbody tr th:only-of-type {\n",
       "        vertical-align: middle;\n",
       "    }\n",
       "\n",
       "    .dataframe tbody tr th {\n",
       "        vertical-align: top;\n",
       "    }\n",
       "\n",
       "    .dataframe thead th {\n",
       "        text-align: right;\n",
       "    }\n",
       "</style>\n",
       "<table border=\"1\" class=\"dataframe\">\n",
       "  <thead>\n",
       "    <tr style=\"text-align: right;\">\n",
       "      <th></th>\n",
       "      <th>id</th>\n",
       "      <th>social_media</th>\n",
       "      <th>target</th>\n",
       "      <th>reviews</th>\n",
       "    </tr>\n",
       "  </thead>\n",
       "  <tbody>\n",
       "    <tr>\n",
       "      <th>0</th>\n",
       "      <td>-3364</td>\n",
       "      <td>Facebook</td>\n",
       "      <td>Irrelevant</td>\n",
       "      <td>I mentioned on Facebook that I was struggling ...</td>\n",
       "    </tr>\n",
       "    <tr>\n",
       "      <th>1</th>\n",
       "      <td>352</td>\n",
       "      <td>Amazon</td>\n",
       "      <td>Neutral</td>\n",
       "      <td>BBC News - Amazon boss Jeff Bezos rejects clai...</td>\n",
       "    </tr>\n",
       "    <tr>\n",
       "      <th>2</th>\n",
       "      <td>8312</td>\n",
       "      <td>Microsoft</td>\n",
       "      <td>Negative</td>\n",
       "      <td>@Microsoft Why do I pay for WORD when it funct...</td>\n",
       "    </tr>\n",
       "    <tr>\n",
       "      <th>3</th>\n",
       "      <td>4371</td>\n",
       "      <td>CS-GO</td>\n",
       "      <td>Negative</td>\n",
       "      <td>CSGO matchmaking is so full of closet hacking,...</td>\n",
       "    </tr>\n",
       "    <tr>\n",
       "      <th>4</th>\n",
       "      <td>4433</td>\n",
       "      <td>Google</td>\n",
       "      <td>Neutral</td>\n",
       "      <td>Now the President is slapping Americans in the...</td>\n",
       "    </tr>\n",
       "  </tbody>\n",
       "</table>\n",
       "</div>"
      ],
      "text/plain": [
       "     id social_media      target  \\\n",
       "0 -3364     Facebook  Irrelevant   \n",
       "1   352       Amazon     Neutral   \n",
       "2  8312    Microsoft    Negative   \n",
       "3  4371        CS-GO    Negative   \n",
       "4  4433       Google     Neutral   \n",
       "\n",
       "                                             reviews  \n",
       "0  I mentioned on Facebook that I was struggling ...  \n",
       "1  BBC News - Amazon boss Jeff Bezos rejects clai...  \n",
       "2  @Microsoft Why do I pay for WORD when it funct...  \n",
       "3  CSGO matchmaking is so full of closet hacking,...  \n",
       "4  Now the President is slapping Americans in the...  "
      ]
     },
     "execution_count": 3,
     "metadata": {},
     "output_type": "execute_result"
    }
   ],
   "source": [
    "df.head()"
   ]
  },
  {
   "cell_type": "code",
   "execution_count": 4,
   "id": "fcba0c0d",
   "metadata": {},
   "outputs": [
    {
     "data": {
      "text/html": [
       "<div>\n",
       "<style scoped>\n",
       "    .dataframe tbody tr th:only-of-type {\n",
       "        vertical-align: middle;\n",
       "    }\n",
       "\n",
       "    .dataframe tbody tr th {\n",
       "        vertical-align: top;\n",
       "    }\n",
       "\n",
       "    .dataframe thead th {\n",
       "        text-align: right;\n",
       "    }\n",
       "</style>\n",
       "<table border=\"1\" class=\"dataframe\">\n",
       "  <thead>\n",
       "    <tr style=\"text-align: right;\">\n",
       "      <th></th>\n",
       "      <th>id</th>\n",
       "      <th>social_media</th>\n",
       "      <th>target</th>\n",
       "      <th>reviews</th>\n",
       "    </tr>\n",
       "  </thead>\n",
       "  <tbody>\n",
       "    <tr>\n",
       "      <th>995</th>\n",
       "      <td>4891</td>\n",
       "      <td>GrandTheftAuto(GTA)</td>\n",
       "      <td>Irrelevant</td>\n",
       "      <td>â­ï¸ Toronto is the arts and culture capital...</td>\n",
       "    </tr>\n",
       "    <tr>\n",
       "      <th>996</th>\n",
       "      <td>4359</td>\n",
       "      <td>CS-GO</td>\n",
       "      <td>Irrelevant</td>\n",
       "      <td>tHIS IS ACTUALLY A GOOD MOVE TOT BRING MORE VI...</td>\n",
       "    </tr>\n",
       "    <tr>\n",
       "      <th>997</th>\n",
       "      <td>2652</td>\n",
       "      <td>Borderlands</td>\n",
       "      <td>Positive</td>\n",
       "      <td>Today sucked so itâs time to drink wine n pl...</td>\n",
       "    </tr>\n",
       "    <tr>\n",
       "      <th>998</th>\n",
       "      <td>8069</td>\n",
       "      <td>Microsoft</td>\n",
       "      <td>Positive</td>\n",
       "      <td>Bought a fraction of Microsoft today. Small wins.</td>\n",
       "    </tr>\n",
       "    <tr>\n",
       "      <th>999</th>\n",
       "      <td>6960</td>\n",
       "      <td>johnson&amp;johnson</td>\n",
       "      <td>Neutral</td>\n",
       "      <td>Johnson &amp; Johnson to stop selling talc baby po...</td>\n",
       "    </tr>\n",
       "  </tbody>\n",
       "</table>\n",
       "</div>"
      ],
      "text/plain": [
       "       id         social_media      target  \\\n",
       "995  4891  GrandTheftAuto(GTA)  Irrelevant   \n",
       "996  4359                CS-GO  Irrelevant   \n",
       "997  2652          Borderlands    Positive   \n",
       "998  8069            Microsoft    Positive   \n",
       "999  6960      johnson&johnson     Neutral   \n",
       "\n",
       "                                               reviews  \n",
       "995  â­ï¸ Toronto is the arts and culture capital...  \n",
       "996  tHIS IS ACTUALLY A GOOD MOVE TOT BRING MORE VI...  \n",
       "997  Today sucked so itâs time to drink wine n pl...  \n",
       "998  Bought a fraction of Microsoft today. Small wins.  \n",
       "999  Johnson & Johnson to stop selling talc baby po...  "
      ]
     },
     "execution_count": 4,
     "metadata": {},
     "output_type": "execute_result"
    }
   ],
   "source": [
    "df.tail()"
   ]
  },
  {
   "cell_type": "code",
   "execution_count": 5,
   "id": "78dbb903",
   "metadata": {},
   "outputs": [
    {
     "data": {
      "text/plain": [
       "(1000, 4)"
      ]
     },
     "execution_count": 5,
     "metadata": {},
     "output_type": "execute_result"
    }
   ],
   "source": [
    "df.shape"
   ]
  },
  {
   "cell_type": "code",
   "execution_count": 6,
   "id": "ce166f6c",
   "metadata": {},
   "outputs": [
    {
     "data": {
      "text/plain": [
       "id               int64\n",
       "social_media    object\n",
       "target          object\n",
       "reviews         object\n",
       "dtype: object"
      ]
     },
     "execution_count": 6,
     "metadata": {},
     "output_type": "execute_result"
    }
   ],
   "source": [
    "df.dtypes"
   ]
  },
  {
   "cell_type": "code",
   "execution_count": 7,
   "id": "469961fd",
   "metadata": {},
   "outputs": [
    {
     "data": {
      "text/plain": [
       "id              0\n",
       "social_media    0\n",
       "target          0\n",
       "reviews         0\n",
       "dtype: int64"
      ]
     },
     "execution_count": 7,
     "metadata": {},
     "output_type": "execute_result"
    }
   ],
   "source": [
    "df.isna().sum()"
   ]
  },
  {
   "cell_type": "code",
   "execution_count": 8,
   "id": "44172a25",
   "metadata": {},
   "outputs": [
    {
     "data": {
      "text/plain": [
       "<AxesSubplot:xlabel='count', ylabel='social_media'>"
      ]
     },
     "execution_count": 8,
     "metadata": {},
     "output_type": "execute_result"
    },
    {
     "data": {
      "image/png": "[encoded data removed]",
      "text/plain": [
       "<Figure size 640x480 with 1 Axes>"
      ]
     },
     "metadata": {},
     "output_type": "display_data"
    }
   ],
   "source": [
    "sns.countplot(df['social_media'])"
   ]
  },
  {
   "cell_type": "code",
   "execution_count": 9,
   "id": "f1c4de6c",
   "metadata": {},
   "outputs": [
    {
     "data": {
      "text/plain": [
       "target\n",
       "Neutral       285\n",
       "Positive      277\n",
       "Negative      266\n",
       "Irrelevant    172\n",
       "Name: count, dtype: int64"
      ]
     },
     "execution_count": 9,
     "metadata": {},
     "output_type": "execute_result"
    }
   ],
   "source": [
    "x=df['target'].value_counts()\n",
    "x"
   ]
  },
  {
   "cell_type": "code",
   "execution_count": 10,
   "id": "72eab4ca",
   "metadata": {},
   "outputs": [
    {
     "data": {
      "text/plain": [
       "<BarContainer object of 4 artists>"
      ]
     },
     "execution_count": 10,
     "metadata": {},
     "output_type": "execute_result"
    },
    {
     "data": {
      "image/png": "[encoded data removed]",
      "text/plain": [
       "<Figure size 640x480 with 1 Axes>"
      ]
     },
     "metadata": {},
     "output_type": "display_data"
    }
   ],
   "source": [
    "plt.bar(x.index,x)"
   ]
  },
  {
   "cell_type": "code",
   "execution_count": 11,
   "id": "14a218de",
   "metadata": {},
   "outputs": [
    {
     "data": {
      "text/html": [
       "<div>\n",
       "<style scoped>\n",
       "    .dataframe tbody tr th:only-of-type {\n",
       "        vertical-align: middle;\n",
       "    }\n",
       "\n",
       "    .dataframe tbody tr th {\n",
       "        vertical-align: top;\n",
       "    }\n",
       "\n",
       "    .dataframe thead th {\n",
       "        text-align: right;\n",
       "    }\n",
       "</style>\n",
       "<table border=\"1\" class=\"dataframe\">\n",
       "  <thead>\n",
       "    <tr style=\"text-align: right;\">\n",
       "      <th></th>\n",
       "      <th>id</th>\n",
       "      <th>social_media</th>\n",
       "      <th>target</th>\n",
       "      <th>reviews</th>\n",
       "    </tr>\n",
       "  </thead>\n",
       "  <tbody>\n",
       "    <tr>\n",
       "      <th>1</th>\n",
       "      <td>352</td>\n",
       "      <td>Amazon</td>\n",
       "      <td>Neutral</td>\n",
       "      <td>BBC News - Amazon boss Jeff Bezos rejects clai...</td>\n",
       "    </tr>\n",
       "    <tr>\n",
       "      <th>2</th>\n",
       "      <td>8312</td>\n",
       "      <td>Microsoft</td>\n",
       "      <td>Negative</td>\n",
       "      <td>@Microsoft Why do I pay for WORD when it funct...</td>\n",
       "    </tr>\n",
       "    <tr>\n",
       "      <th>3</th>\n",
       "      <td>4371</td>\n",
       "      <td>CS-GO</td>\n",
       "      <td>Negative</td>\n",
       "      <td>CSGO matchmaking is so full of closet hacking,...</td>\n",
       "    </tr>\n",
       "    <tr>\n",
       "      <th>4</th>\n",
       "      <td>4433</td>\n",
       "      <td>Google</td>\n",
       "      <td>Neutral</td>\n",
       "      <td>Now the President is slapping Americans in the...</td>\n",
       "    </tr>\n",
       "    <tr>\n",
       "      <th>5</th>\n",
       "      <td>6273</td>\n",
       "      <td>FIFA</td>\n",
       "      <td>Negative</td>\n",
       "      <td>Hi @EAHelp Iâve had Madeleine McCann in my c...</td>\n",
       "    </tr>\n",
       "    <tr>\n",
       "      <th>...</th>\n",
       "      <td>...</td>\n",
       "      <td>...</td>\n",
       "      <td>...</td>\n",
       "      <td>...</td>\n",
       "    </tr>\n",
       "    <tr>\n",
       "      <th>993</th>\n",
       "      <td>314</td>\n",
       "      <td>Amazon</td>\n",
       "      <td>Negative</td>\n",
       "      <td>Please explain how this is possible! How can t...</td>\n",
       "    </tr>\n",
       "    <tr>\n",
       "      <th>994</th>\n",
       "      <td>9701</td>\n",
       "      <td>PlayStation5(PS5)</td>\n",
       "      <td>Positive</td>\n",
       "      <td>Good on Sony. As much as I want to see the new...</td>\n",
       "    </tr>\n",
       "    <tr>\n",
       "      <th>997</th>\n",
       "      <td>2652</td>\n",
       "      <td>Borderlands</td>\n",
       "      <td>Positive</td>\n",
       "      <td>Today sucked so itâs time to drink wine n pl...</td>\n",
       "    </tr>\n",
       "    <tr>\n",
       "      <th>998</th>\n",
       "      <td>8069</td>\n",
       "      <td>Microsoft</td>\n",
       "      <td>Positive</td>\n",
       "      <td>Bought a fraction of Microsoft today. Small wins.</td>\n",
       "    </tr>\n",
       "    <tr>\n",
       "      <th>999</th>\n",
       "      <td>6960</td>\n",
       "      <td>johnson&amp;johnson</td>\n",
       "      <td>Neutral</td>\n",
       "      <td>Johnson &amp; Johnson to stop selling talc baby po...</td>\n",
       "    </tr>\n",
       "  </tbody>\n",
       "</table>\n",
       "<p>828 rows × 4 columns</p>\n",
       "</div>"
      ],
      "text/plain": [
       "       id       social_media    target  \\\n",
       "1     352             Amazon   Neutral   \n",
       "2    8312          Microsoft  Negative   \n",
       "3    4371              CS-GO  Negative   \n",
       "4    4433             Google   Neutral   \n",
       "5    6273               FIFA  Negative   \n",
       "..    ...                ...       ...   \n",
       "993   314             Amazon  Negative   \n",
       "994  9701  PlayStation5(PS5)  Positive   \n",
       "997  2652        Borderlands  Positive   \n",
       "998  8069          Microsoft  Positive   \n",
       "999  6960    johnson&johnson   Neutral   \n",
       "\n",
       "                                               reviews  \n",
       "1    BBC News - Amazon boss Jeff Bezos rejects clai...  \n",
       "2    @Microsoft Why do I pay for WORD when it funct...  \n",
       "3    CSGO matchmaking is so full of closet hacking,...  \n",
       "4    Now the President is slapping Americans in the...  \n",
       "5    Hi @EAHelp Iâve had Madeleine McCann in my c...  \n",
       "..                                                 ...  \n",
       "993  Please explain how this is possible! How can t...  \n",
       "994  Good on Sony. As much as I want to see the new...  \n",
       "997  Today sucked so itâs time to drink wine n pl...  \n",
       "998  Bought a fraction of Microsoft today. Small wins.  \n",
       "999  Johnson & Johnson to stop selling talc baby po...  \n",
       "\n",
       "[828 rows x 4 columns]"
      ]
     },
     "execution_count": 11,
     "metadata": {},
     "output_type": "execute_result"
    }
   ],
   "source": [
    "df.drop(df.index[(df['target']=='Irrelevant')],axis=0,inplace=True)\n",
    "df"
   ]
  },
  {
   "cell_type": "code",
   "execution_count": 12,
   "id": "c6a49bfc",
   "metadata": {},
   "outputs": [
    {
     "data": {
      "text/html": [
       "<div>\n",
       "<style scoped>\n",
       "    .dataframe tbody tr th:only-of-type {\n",
       "        vertical-align: middle;\n",
       "    }\n",
       "\n",
       "    .dataframe tbody tr th {\n",
       "        vertical-align: top;\n",
       "    }\n",
       "\n",
       "    .dataframe thead th {\n",
       "        text-align: right;\n",
       "    }\n",
       "</style>\n",
       "<table border=\"1\" class=\"dataframe\">\n",
       "  <thead>\n",
       "    <tr style=\"text-align: right;\">\n",
       "      <th></th>\n",
       "      <th>id</th>\n",
       "      <th>social_media</th>\n",
       "      <th>target</th>\n",
       "      <th>reviews</th>\n",
       "    </tr>\n",
       "  </thead>\n",
       "  <tbody>\n",
       "    <tr>\n",
       "      <th>0</th>\n",
       "      <td>352</td>\n",
       "      <td>Amazon</td>\n",
       "      <td>Neutral</td>\n",
       "      <td>BBC News - Amazon boss Jeff Bezos rejects clai...</td>\n",
       "    </tr>\n",
       "    <tr>\n",
       "      <th>1</th>\n",
       "      <td>8312</td>\n",
       "      <td>Microsoft</td>\n",
       "      <td>Negative</td>\n",
       "      <td>@Microsoft Why do I pay for WORD when it funct...</td>\n",
       "    </tr>\n",
       "    <tr>\n",
       "      <th>2</th>\n",
       "      <td>4371</td>\n",
       "      <td>CS-GO</td>\n",
       "      <td>Negative</td>\n",
       "      <td>CSGO matchmaking is so full of closet hacking,...</td>\n",
       "    </tr>\n",
       "    <tr>\n",
       "      <th>3</th>\n",
       "      <td>4433</td>\n",
       "      <td>Google</td>\n",
       "      <td>Neutral</td>\n",
       "      <td>Now the President is slapping Americans in the...</td>\n",
       "    </tr>\n",
       "    <tr>\n",
       "      <th>4</th>\n",
       "      <td>6273</td>\n",
       "      <td>FIFA</td>\n",
       "      <td>Negative</td>\n",
       "      <td>Hi @EAHelp Iâve had Madeleine McCann in my c...</td>\n",
       "    </tr>\n",
       "    <tr>\n",
       "      <th>...</th>\n",
       "      <td>...</td>\n",
       "      <td>...</td>\n",
       "      <td>...</td>\n",
       "      <td>...</td>\n",
       "    </tr>\n",
       "    <tr>\n",
       "      <th>823</th>\n",
       "      <td>314</td>\n",
       "      <td>Amazon</td>\n",
       "      <td>Negative</td>\n",
       "      <td>Please explain how this is possible! How can t...</td>\n",
       "    </tr>\n",
       "    <tr>\n",
       "      <th>824</th>\n",
       "      <td>9701</td>\n",
       "      <td>PlayStation5(PS5)</td>\n",
       "      <td>Positive</td>\n",
       "      <td>Good on Sony. As much as I want to see the new...</td>\n",
       "    </tr>\n",
       "    <tr>\n",
       "      <th>825</th>\n",
       "      <td>2652</td>\n",
       "      <td>Borderlands</td>\n",
       "      <td>Positive</td>\n",
       "      <td>Today sucked so itâs time to drink wine n pl...</td>\n",
       "    </tr>\n",
       "    <tr>\n",
       "      <th>826</th>\n",
       "      <td>8069</td>\n",
       "      <td>Microsoft</td>\n",
       "      <td>Positive</td>\n",
       "      <td>Bought a fraction of Microsoft today. Small wins.</td>\n",
       "    </tr>\n",
       "    <tr>\n",
       "      <th>827</th>\n",
       "      <td>6960</td>\n",
       "      <td>johnson&amp;johnson</td>\n",
       "      <td>Neutral</td>\n",
       "      <td>Johnson &amp; Johnson to stop selling talc baby po...</td>\n",
       "    </tr>\n",
       "  </tbody>\n",
       "</table>\n",
       "<p>828 rows × 4 columns</p>\n",
       "</div>"
      ],
      "text/plain": [
       "       id       social_media    target  \\\n",
       "0     352             Amazon   Neutral   \n",
       "1    8312          Microsoft  Negative   \n",
       "2    4371              CS-GO  Negative   \n",
       "3    4433             Google   Neutral   \n",
       "4    6273               FIFA  Negative   \n",
       "..    ...                ...       ...   \n",
       "823   314             Amazon  Negative   \n",
       "824  9701  PlayStation5(PS5)  Positive   \n",
       "825  2652        Borderlands  Positive   \n",
       "826  8069          Microsoft  Positive   \n",
       "827  6960    johnson&johnson   Neutral   \n",
       "\n",
       "                                               reviews  \n",
       "0    BBC News - Amazon boss Jeff Bezos rejects clai...  \n",
       "1    @Microsoft Why do I pay for WORD when it funct...  \n",
       "2    CSGO matchmaking is so full of closet hacking,...  \n",
       "3    Now the President is slapping Americans in the...  \n",
       "4    Hi @EAHelp Iâve had Madeleine McCann in my c...  \n",
       "..                                                 ...  \n",
       "823  Please explain how this is possible! How can t...  \n",
       "824  Good on Sony. As much as I want to see the new...  \n",
       "825  Today sucked so itâs time to drink wine n pl...  \n",
       "826  Bought a fraction of Microsoft today. Small wins.  \n",
       "827  Johnson & Johnson to stop selling talc baby po...  \n",
       "\n",
       "[828 rows x 4 columns]"
      ]
     },
     "execution_count": 12,
     "metadata": {},
     "output_type": "execute_result"
    }
   ],
   "source": [
    "#reset index (another method=ignore_index=true)\n",
    "df.reset_index(drop=True,inplace=True)\n",
    "df"
   ]
  },
  {
   "cell_type": "code",
   "execution_count": 13,
   "id": "79ccdec3",
   "metadata": {},
   "outputs": [
    {
     "data": {
      "text/html": [
       "<div>\n",
       "<style scoped>\n",
       "    .dataframe tbody tr th:only-of-type {\n",
       "        vertical-align: middle;\n",
       "    }\n",
       "\n",
       "    .dataframe tbody tr th {\n",
       "        vertical-align: top;\n",
       "    }\n",
       "\n",
       "    .dataframe thead th {\n",
       "        text-align: right;\n",
       "    }\n",
       "</style>\n",
       "<table border=\"1\" class=\"dataframe\">\n",
       "  <thead>\n",
       "    <tr style=\"text-align: right;\">\n",
       "      <th></th>\n",
       "      <th>target</th>\n",
       "      <th>reviews</th>\n",
       "    </tr>\n",
       "  </thead>\n",
       "  <tbody>\n",
       "    <tr>\n",
       "      <th>0</th>\n",
       "      <td>Neutral</td>\n",
       "      <td>BBC News - Amazon boss Jeff Bezos rejects clai...</td>\n",
       "    </tr>\n",
       "    <tr>\n",
       "      <th>1</th>\n",
       "      <td>Negative</td>\n",
       "      <td>@Microsoft Why do I pay for WORD when it funct...</td>\n",
       "    </tr>\n",
       "    <tr>\n",
       "      <th>2</th>\n",
       "      <td>Negative</td>\n",
       "      <td>CSGO matchmaking is so full of closet hacking,...</td>\n",
       "    </tr>\n",
       "    <tr>\n",
       "      <th>3</th>\n",
       "      <td>Neutral</td>\n",
       "      <td>Now the President is slapping Americans in the...</td>\n",
       "    </tr>\n",
       "    <tr>\n",
       "      <th>4</th>\n",
       "      <td>Negative</td>\n",
       "      <td>Hi @EAHelp Iâve had Madeleine McCann in my c...</td>\n",
       "    </tr>\n",
       "    <tr>\n",
       "      <th>...</th>\n",
       "      <td>...</td>\n",
       "      <td>...</td>\n",
       "    </tr>\n",
       "    <tr>\n",
       "      <th>823</th>\n",
       "      <td>Negative</td>\n",
       "      <td>Please explain how this is possible! How can t...</td>\n",
       "    </tr>\n",
       "    <tr>\n",
       "      <th>824</th>\n",
       "      <td>Positive</td>\n",
       "      <td>Good on Sony. As much as I want to see the new...</td>\n",
       "    </tr>\n",
       "    <tr>\n",
       "      <th>825</th>\n",
       "      <td>Positive</td>\n",
       "      <td>Today sucked so itâs time to drink wine n pl...</td>\n",
       "    </tr>\n",
       "    <tr>\n",
       "      <th>826</th>\n",
       "      <td>Positive</td>\n",
       "      <td>Bought a fraction of Microsoft today. Small wins.</td>\n",
       "    </tr>\n",
       "    <tr>\n",
       "      <th>827</th>\n",
       "      <td>Neutral</td>\n",
       "      <td>Johnson &amp; Johnson to stop selling talc baby po...</td>\n",
       "    </tr>\n",
       "  </tbody>\n",
       "</table>\n",
       "<p>828 rows × 2 columns</p>\n",
       "</div>"
      ],
      "text/plain": [
       "       target                                            reviews\n",
       "0     Neutral  BBC News - Amazon boss Jeff Bezos rejects clai...\n",
       "1    Negative  @Microsoft Why do I pay for WORD when it funct...\n",
       "2    Negative  CSGO matchmaking is so full of closet hacking,...\n",
       "3     Neutral  Now the President is slapping Americans in the...\n",
       "4    Negative  Hi @EAHelp Iâve had Madeleine McCann in my c...\n",
       "..        ...                                                ...\n",
       "823  Negative  Please explain how this is possible! How can t...\n",
       "824  Positive  Good on Sony. As much as I want to see the new...\n",
       "825  Positive  Today sucked so itâs time to drink wine n pl...\n",
       "826  Positive  Bought a fraction of Microsoft today. Small wins.\n",
       "827   Neutral  Johnson & Johnson to stop selling talc baby po...\n",
       "\n",
       "[828 rows x 2 columns]"
      ]
     },
     "execution_count": 13,
     "metadata": {},
     "output_type": "execute_result"
    }
   ],
   "source": [
    "df.drop(['id','social_media'],inplace=True,axis=1)\n",
    "df"
   ]
  },
  {
   "cell_type": "code",
   "execution_count": 14,
   "id": "3ed447cd",
   "metadata": {},
   "outputs": [],
   "source": [
    "#negative     positive      neutral\n",
    "#1               -1            0\n",
    "\n",
    "df['target']=df['target'].map({'Negative':-1,'Positive':1,'Neutral':0})"
   ]
  },
  {
   "cell_type": "code",
   "execution_count": 15,
   "id": "58d5b2ab",
   "metadata": {},
   "outputs": [
    {
     "data": {
      "text/plain": [
       "target      int64\n",
       "reviews    object\n",
       "dtype: object"
      ]
     },
     "execution_count": 15,
     "metadata": {},
     "output_type": "execute_result"
    }
   ],
   "source": [
    "df.dtypes"
   ]
  },
  {
   "cell_type": "code",
   "execution_count": 16,
   "id": "d06b2e17",
   "metadata": {},
   "outputs": [
    {
     "name": "stderr",
     "output_type": "stream",
     "text": [
      "[nltk_data] Error loading stopwords: <urlopen error [Errno 11001]\n",
      "[nltk_data]     getaddrinfo failed>\n",
      "[nltk_data] Error loading punkt_tab: <urlopen error [Errno 11001]\n",
      "[nltk_data]     getaddrinfo failed>\n"
     ]
    },
    {
     "data": {
      "text/plain": [
       "False"
      ]
     },
     "execution_count": 16,
     "metadata": {},
     "output_type": "execute_result"
    }
   ],
   "source": [
    "nltk.download('stopwords')\n",
    "nltk.download('punkt_tab')"
   ]
  },
  {
   "cell_type": "code",
   "execution_count": 17,
   "id": "6716efbd",
   "metadata": {},
   "outputs": [
    {
     "data": {
      "text/plain": [
       "0      BBC News - Amazon boss Jeff Bezos rejects clai...\n",
       "1      @Microsoft Why do I pay for WORD when it funct...\n",
       "2      CSGO matchmaking is so full of closet hacking,...\n",
       "3      Now the President is slapping Americans in the...\n",
       "4      Hi @EAHelp Iâve had Madeleine McCann in my c...\n",
       "                             ...                        \n",
       "823    Please explain how this is possible! How can t...\n",
       "824    Good on Sony. As much as I want to see the new...\n",
       "825    Today sucked so itâs time to drink wine n pl...\n",
       "826    Bought a fraction of Microsoft today. Small wins.\n",
       "827    Johnson & Johnson to stop selling talc baby po...\n",
       "Name: reviews, Length: 828, dtype: object"
      ]
     },
     "execution_count": 17,
     "metadata": {},
     "output_type": "execute_result"
    }
   ],
   "source": [
    "#\n",
    "tweets=df.reviews\n",
    "tweets"
   ]
  },
  {
   "cell_type": "code",
   "execution_count": 18,
   "id": "7a824c16",
   "metadata": {},
   "outputs": [
    {
     "data": {
      "text/plain": [
       "0      BBC News - Amazon boss Jeff Bezos rejects clai...\n",
       "1      @Microsoft Why do I pay for WORD when it funct...\n",
       "2      CSGO matchmaking is so full of closet hacking ...\n",
       "3      Now the President is slapping Americans in the...\n",
       "4      Hi @EAHelp Iâ   ve had Madeleine McCann in m...\n",
       "                             ...                        \n",
       "823    Please explain how this is possible ! How can ...\n",
       "824    Good on Sony . As much as I want to see the ne...\n",
       "825    Today sucked so itâ   s time to drink wine n...\n",
       "826    Bought a fraction of Microsoft today . Small w...\n",
       "827    Johnson & Johnson to stop selling talc baby po...\n",
       "Name: reviews, Length: 828, dtype: object"
      ]
     },
     "execution_count": 18,
     "metadata": {},
     "output_type": "execute_result"
    }
   ],
   "source": [
    "#tokenization\n",
    "#lambda===key word===apply \n",
    "#.apply(lambda x:\" \".join(x)===== BBC,News,- Amazon,boss  ===change to==BBC News - Amazon boss \n",
    "\n",
    "from nltk.tokenize import TweetTokenizer\n",
    "tk=TweetTokenizer()\n",
    "tweets=tweets.apply(lambda x: tk.tokenize(x)).apply(lambda x:\" \".join(x))\n",
    "tweets"
   ]
  },
  {
   "cell_type": "code",
   "execution_count": 19,
   "id": "1e267478",
   "metadata": {},
   "outputs": [
    {
     "data": {
      "text/plain": [
       "0      BBC News   Amazon boss Jeff Bezos rejects clai...\n",
       "1       Microsoft Why do I pay for WORD when it funct...\n",
       "2      CSGO matchmaking is so full of closet hacking ...\n",
       "3      Now the President is slapping Americans in the...\n",
       "4      Hi  EAHelp I      ve had Madeleine McCann in m...\n",
       "                             ...                        \n",
       "823    Please explain how this is possible   How can ...\n",
       "824    Good on Sony   As much as I want to see the ne...\n",
       "825    Today sucked so it      s time to drink wine n...\n",
       "826    Bought a fraction of Microsoft today   Small w...\n",
       "827    Johnson   Johnson to stop selling talc baby po...\n",
       "Name: reviews, Length: 828, dtype: object"
      ]
     },
     "execution_count": 19,
     "metadata": {},
     "output_type": "execute_result"
    }
   ],
   "source": [
    "#special character remove\n",
    "tweets=tweets.str.replace('[^a-zA-Z0-9]',\" \",regex=True)\n",
    "tweets"
   ]
  },
  {
   "cell_type": "code",
   "execution_count": 20,
   "id": "dbb06da9",
   "metadata": {},
   "outputs": [
    {
     "data": {
      "text/plain": [
       "0      BBC News Amazon boss Jeff Bezos rejects claims...\n",
       "1      Microsoft Why pay for WORD when functions poor...\n",
       "2      CSGO matchmaking full closet hacking truly awf...\n",
       "3      Now the President slapping Americans the face ...\n",
       "4      EAHelp had Madeleine McCann cellar for the pas...\n",
       "                             ...                        \n",
       "823    Please explain how this possible How can they ...\n",
       "824    Good Sony much want see the new PS5 what going...\n",
       "825    Today sucked time drink wine play borderlands ...\n",
       "826           Bought fraction Microsoft today Small wins\n",
       "827    Johnson Johnson stop selling talc baby powder ...\n",
       "Name: reviews, Length: 828, dtype: object"
      ]
     },
     "execution_count": 20,
     "metadata": {},
     "output_type": "execute_result"
    }
   ],
   "source": [
    "#meaning full word====> minimum 3 characters \n",
    "tweets=tweets.apply(lambda x:' '.join([w for w in tk.tokenize(x) if len(w)>=3]))\n",
    "tweets"
   ]
  },
  {
   "cell_type": "code",
   "execution_count": 21,
   "id": "6ecc4ee4",
   "metadata": {},
   "outputs": [
    {
     "data": {
      "text/plain": [
       "0      bbc news amazon boss jeff bezo reject claim co...\n",
       "1      microsoft whi pay for word when function poor ...\n",
       "2           csgo matchmak full closet hack truli aw game\n",
       "3      now the presid slap american the face that rea...\n",
       "4      eahelp had madelein mccann cellar for the past...\n",
       "                             ...                        \n",
       "823    pleas explain how this possibl how can they le...\n",
       "824    good soni much want see the new ps5 what go ri...\n",
       "825    today suck time drink wine play borderland unt...\n",
       "826            bought fraction microsoft today small win\n",
       "827    johnson johnson stop sell talc babi powder and...\n",
       "Name: reviews, Length: 828, dtype: object"
      ]
     },
     "execution_count": 21,
     "metadata": {},
     "output_type": "execute_result"
    }
   ],
   "source": [
    "#stemming\n",
    "from nltk.stem import SnowballStemmer\n",
    "sp=SnowballStemmer('english')\n",
    "tweets=tweets.apply(lambda x:[sp.stem(i.lower()) for i in tk.tokenize(x)]).apply(lambda x:' '.join(x))\n",
    "tweets\n"
   ]
  },
  {
   "cell_type": "code",
   "execution_count": 22,
   "id": "297a19b9",
   "metadata": {},
   "outputs": [
    {
     "data": {
      "text/plain": [
       "0      bbc news amazon boss jeff bezo reject claim co...\n",
       "1      microsoft whi pay word function poor samsungus...\n",
       "2           csgo matchmak full closet hack truli aw game\n",
       "3      presid slap american face realli commit unlaw ...\n",
       "4      eahelp madelein mccann cellar past year littl ...\n",
       "                             ...                        \n",
       "823    pleas explain possibl let compani overcharg sc...\n",
       "824    good soni much want see new ps5 go right much ...\n",
       "825    today suck time drink wine play borderland sun...\n",
       "826            bought fraction microsoft today small win\n",
       "827    johnson johnson stop sell talc babi powder can...\n",
       "Name: reviews, Length: 828, dtype: object"
      ]
     },
     "execution_count": 22,
     "metadata": {},
     "output_type": "execute_result"
    }
   ],
   "source": [
    "from nltk.corpus import stopwords\n",
    "stop=stopwords.words('english')\n",
    "tweets=tweets.apply(lambda x:[i for i in tk.tokenize(x) if i not in stop ]).apply(lambda x:' '.join(x))\n",
    "tweets"
   ]
  },
  {
   "cell_type": "code",
   "execution_count": 23,
   "id": "42772031",
   "metadata": {},
   "outputs": [
    {
     "data": {
      "text/plain": [
       "<828x3763 sparse matrix of type '<class 'numpy.float64'>'\n",
       "\twith 10461 stored elements in Compressed Sparse Row format>"
      ]
     },
     "execution_count": 23,
     "metadata": {},
     "output_type": "execute_result"
    }
   ],
   "source": [
    "#vectorization\n",
    "#tf-idf\n",
    "from sklearn.feature_extraction.text import TfidfVectorizer\n",
    "tf=TfidfVectorizer()\n",
    "data=tf.fit_transform(tweets)\n",
    "data\n"
   ]
  },
  {
   "cell_type": "code",
   "execution_count": 24,
   "id": "cd209ce2",
   "metadata": {},
   "outputs": [
    {
     "name": "stdout",
     "output_type": "stream",
     "text": [
      "  (0, 668)\t0.2608257828483461\n",
      "  (0, 982)\t0.2608257828483461\n",
      "  (0, 1108)\t0.23509805002803952\n",
      "  (0, 1976)\t0.13277165480466424\n",
      "  (0, 286)\t0.22681557001542715\n",
      "  (0, 838)\t0.17354914655342313\n",
      "  (0, 785)\t0.21432663830218204\n",
      "  (0, 2741)\t0.2608257828483461\n",
      "  (0, 545)\t0.2608257828483461\n",
      "  (0, 1813)\t0.24577602391989378\n",
      "  (0, 610)\t0.22681557001542715\n",
      "  (0, 353)\t0.1515362387424402\n",
      "  (0, 2267)\t0.38864111655856126\n",
      "  (0, 515)\t0.49155204783978756\n",
      "  (1, 775)\t0.4055823664694651\n",
      "  (1, 2871)\t0.4055823664694651\n",
      "  (1, 2538)\t0.3821800909185634\n",
      "  (1, 1383)\t0.4055823664694651\n",
      "  (1, 3659)\t0.36557591217188057\n",
      "  (1, 2442)\t0.3126902562590763\n",
      "  (1, 3619)\t0.26216072802580975\n",
      "  (1, 2135)\t0.24555654927912696\n",
      "  (2, 1405)\t0.1689251539717079\n",
      "  (2, 463)\t0.36574263611909275\n",
      "  (2, 3412)\t0.36574263611909275\n",
      "  :\t:\n",
      "  (825, 3373)\t0.3395996844494919\n",
      "  (825, 3363)\t0.2560582225152134\n",
      "  (825, 608)\t0.22981061112100945\n",
      "  (825, 975)\t0.2315686698425631\n",
      "  (825, 3353)\t0.21750175079084832\n",
      "  (825, 3206)\t0.2904718522758868\n",
      "  (825, 2507)\t0.17148706662740873\n",
      "  (826, 1359)\t0.5079831062080814\n",
      "  (826, 3050)\t0.47867226429410115\n",
      "  (826, 613)\t0.4174215841659411\n",
      "  (826, 3630)\t0.353278941165688\n",
      "  (826, 3363)\t0.34523850330234374\n",
      "  (826, 2135)\t0.3075542453642147\n",
      "  (827, 182)\t0.3283693467320579\n",
      "  (827, 1110)\t0.3283693467320579\n",
      "  (827, 2788)\t0.3283693467320579\n",
      "  (827, 134)\t0.3283693467320579\n",
      "  (827, 689)\t0.2770320970909926\n",
      "  (827, 2926)\t0.2635889502019104\n",
      "  (827, 3254)\t0.2635889502019104\n",
      "  (827, 3173)\t0.2311987519368367\n",
      "  (827, 1666)\t0.15963411936668057\n",
      "  (827, 2556)\t0.24870786898500463\n",
      "  (827, 483)\t0.23743856420618148\n",
      "  (827, 1834)\t0.3947412386878786\n"
     ]
    }
   ],
   "source": [
    "print(data)"
   ]
  },
  {
   "cell_type": "code",
   "execution_count": 25,
   "id": "6625e6f7",
   "metadata": {},
   "outputs": [
    {
     "data": {
      "text/plain": [
       "array([ 0, -1, -1,  0, -1,  1,  1,  1, -1,  1,  1, -1,  0, -1,  1,  1, -1,\n",
       "        1, -1, -1,  0, -1,  0,  0, -1, -1,  1,  1, -1,  1, -1,  0,  0,  1,\n",
       "        0,  1,  0,  0,  0,  1,  0, -1, -1, -1,  0,  1, -1, -1,  1,  1,  1,\n",
       "        1,  1, -1, -1,  1,  1, -1,  0, -1,  0, -1,  1, -1, -1,  1,  1,  1,\n",
       "        0,  0,  0,  1,  1,  0,  1,  0, -1, -1,  0,  0, -1,  1, -1, -1, -1,\n",
       "        0,  1,  0, -1,  1,  1,  0,  1,  0,  1, -1,  0,  0,  0, -1,  0, -1,\n",
       "        0,  0,  1,  1,  0, -1, -1,  1, -1,  0, -1,  1,  0, -1,  0,  1,  0,\n",
       "        1,  1,  0,  0,  0,  0,  1,  0,  1,  1, -1,  0,  0,  0,  0, -1,  0,\n",
       "        1, -1,  0, -1,  0, -1, -1, -1,  1,  1,  1,  0,  0,  1,  0,  0,  0,\n",
       "        1,  0, -1, -1,  0,  1,  1,  0,  1,  1,  0,  0, -1, -1, -1, -1,  1,\n",
       "        0,  0,  1,  1,  1,  1, -1,  1,  1,  0, -1, -1, -1,  1,  1, -1, -1,\n",
       "        1,  1, -1,  1,  1, -1,  1,  0, -1,  0,  0,  1, -1,  1,  1,  0,  1,\n",
       "       -1, -1,  1,  1,  1,  1,  0,  0,  1, -1,  0,  1,  0, -1,  0,  0, -1,\n",
       "        1,  1, -1,  0,  1,  0, -1,  0, -1,  1,  1, -1, -1, -1,  1, -1,  0,\n",
       "        1,  0,  0, -1,  1, -1,  1, -1,  0,  0,  1, -1,  0, -1,  1, -1,  1,\n",
       "        1,  1,  1,  1,  1, -1, -1,  1, -1,  0,  0,  0,  1,  0,  1, -1,  0,\n",
       "        0,  0,  0, -1,  1, -1, -1,  1,  1,  0,  0, -1, -1, -1,  0,  1,  0,\n",
       "       -1,  1,  0, -1, -1, -1,  1,  0,  0, -1,  1,  1,  0,  1,  0,  0,  1,\n",
       "        1, -1,  0,  1, -1,  0, -1, -1,  1,  1,  1,  1,  0, -1,  0,  1,  0,\n",
       "        1, -1, -1, -1,  1,  0,  1, -1,  0, -1,  1,  1,  1,  1,  0,  0,  0,\n",
       "       -1,  1,  1,  0, -1,  1,  0, -1, -1, -1, -1, -1,  0,  0,  0,  1,  1,\n",
       "       -1, -1,  0, -1,  0,  0, -1,  1, -1,  1,  1,  1,  0,  1,  0,  0, -1,\n",
       "        1,  0,  0,  0,  0,  0,  0,  0,  0, -1, -1,  1,  1,  0, -1, -1,  1,\n",
       "        1, -1,  1,  1,  1,  1,  1,  0, -1,  1,  0,  0,  1,  1,  1,  1,  0,\n",
       "       -1, -1, -1, -1,  0,  1, -1, -1,  1,  1,  0,  0, -1, -1,  1,  0, -1,\n",
       "       -1, -1,  0,  0,  1, -1, -1, -1,  0,  0,  0, -1, -1,  1, -1,  0, -1,\n",
       "        0,  1, -1,  0,  1,  1, -1,  0,  0,  1, -1, -1,  0,  0, -1,  1, -1,\n",
       "        0, -1, -1, -1,  1, -1,  1, -1,  1, -1, -1,  0, -1,  0, -1,  1, -1,\n",
       "        0, -1, -1,  0,  0,  1, -1,  1,  0,  0,  0,  0, -1,  0,  0,  0, -1,\n",
       "       -1,  0,  1,  0,  0, -1,  0,  1,  0,  0,  0,  0,  0,  1,  0,  1,  1,\n",
       "        1,  0, -1,  1,  0,  0, -1,  1,  0,  0, -1,  0, -1,  0,  1, -1,  1,\n",
       "       -1, -1,  0,  0,  0,  0,  1,  1,  1, -1, -1,  0,  1,  0,  0, -1,  1,\n",
       "        1,  0,  1, -1, -1,  0,  1, -1,  1, -1,  0,  1,  1,  0,  0,  0,  1,\n",
       "        0, -1,  0,  0, -1,  1, -1,  0,  1,  1,  1,  1,  0, -1,  0,  1,  1,\n",
       "        1,  1,  1, -1,  0,  1,  0,  0, -1, -1, -1,  0,  1,  0, -1,  1,  1,\n",
       "        1,  0,  1, -1,  0, -1,  0, -1,  0,  0,  1, -1,  1,  1,  0, -1,  0,\n",
       "       -1, -1, -1, -1,  1,  1,  1,  1,  0, -1, -1,  1, -1, -1,  0,  0,  1,\n",
       "        0, -1,  0,  1, -1,  0,  1, -1,  0,  0,  1, -1,  0, -1,  1,  1,  0,\n",
       "        1,  0,  1, -1,  0,  0,  0,  1,  0,  0, -1,  1,  0, -1, -1,  0,  0,\n",
       "        1, -1, -1, -1, -1,  1,  0,  0,  1,  0, -1,  1,  1, -1,  1,  1,  0,\n",
       "       -1,  0,  1,  1, -1, -1, -1,  1, -1,  0, -1,  0,  0,  1,  1, -1,  0,\n",
       "        1, -1, -1, -1, -1, -1, -1, -1, -1,  0, -1,  0,  0,  0,  1,  0,  0,\n",
       "        0, -1,  0,  1,  0, -1, -1,  1,  0,  1,  0,  1,  0, -1,  1,  1,  1,\n",
       "        1, -1, -1,  1,  0,  0,  0,  0,  0,  0, -1, -1, -1, -1,  1, -1,  0,\n",
       "        1,  0, -1,  1,  1, -1,  1,  0,  0,  1, -1,  0, -1,  0,  1,  1,  0,\n",
       "       -1,  1, -1, -1,  0, -1,  0, -1,  1,  0, -1, -1,  1,  1, -1,  0, -1,\n",
       "        0,  0,  0,  0,  0,  0,  1,  0,  1,  1,  1, -1,  0,  1,  0,  1,  0,\n",
       "        1,  0,  1,  0, -1, -1,  1,  1,  1,  1,  0, -1,  1,  1, -1, -1, -1,\n",
       "        0,  1,  0,  1,  1,  0,  1, -1,  1,  1,  1,  0], dtype=int64)"
      ]
     },
     "execution_count": 25,
     "metadata": {},
     "output_type": "execute_result"
    }
   ],
   "source": [
    "y=df.target.values\n",
    "y"
   ]
  },
  {
   "cell_type": "code",
   "execution_count": 26,
   "id": "c437b388",
   "metadata": {},
   "outputs": [],
   "source": [
    "from sklearn.model_selection import train_test_split\n",
    "x_train,x_test,y_train,y_test=train_test_split(data,y,test_size=0.30,random_state=42)"
   ]
  },
  {
   "cell_type": "code",
   "execution_count": 27,
   "id": "e61c689d",
   "metadata": {},
   "outputs": [
    {
     "name": "stdout",
     "output_type": "stream",
     "text": [
      "model is KNeighborsClassifier()\n",
      "accuracy score is\n",
      "0.4497991967871486\n",
      "classification report is\n",
      "              precision    recall  f1-score   support\n",
      "\n",
      "          -1       0.39      0.80      0.53        79\n",
      "           0       0.49      0.29      0.37        79\n",
      "           1       0.63      0.29      0.39        91\n",
      "\n",
      "    accuracy                           0.45       249\n",
      "   macro avg       0.50      0.46      0.43       249\n",
      "weighted avg       0.51      0.45      0.43       249\n",
      "\n",
      "****************************************************************************************************\n",
      "model is SVC()\n",
      "accuracy score is\n",
      "0.5783132530120482\n",
      "classification report is\n",
      "              precision    recall  f1-score   support\n",
      "\n",
      "          -1       0.67      0.51      0.58        79\n",
      "           0       0.46      0.76      0.57        79\n",
      "           1       0.75      0.48      0.59        91\n",
      "\n",
      "    accuracy                           0.58       249\n",
      "   macro avg       0.62      0.58      0.58       249\n",
      "weighted avg       0.63      0.58      0.58       249\n",
      "\n",
      "****************************************************************************************************\n",
      "model is BernoulliNB()\n",
      "accuracy score is\n",
      "0.5783132530120482\n",
      "classification report is\n",
      "              precision    recall  f1-score   support\n",
      "\n",
      "          -1       0.59      0.67      0.63        79\n",
      "           0       0.67      0.37      0.48        79\n",
      "           1       0.53      0.68      0.60        91\n",
      "\n",
      "    accuracy                           0.58       249\n",
      "   macro avg       0.60      0.57      0.57       249\n",
      "weighted avg       0.60      0.58      0.57       249\n",
      "\n",
      "****************************************************************************************************\n"
     ]
    }
   ],
   "source": [
    "from sklearn.neighbors import KNeighborsClassifier\n",
    "from sklearn.svm import SVC\n",
    "from sklearn.naive_bayes import BernoulliNB\n",
    "from sklearn.metrics import accuracy_score,classification_report\n",
    "knn=KNeighborsClassifier()\n",
    "sv=SVC()\n",
    "mn=BernoulliNB()\n",
    "lst=[knn,sv,mn]\n",
    "for i in lst:\n",
    "    print('model is',i)\n",
    "    i.fit(x_train,y_train)\n",
    "    y_pred=i.predict(x_test)\n",
    "    print('accuracy score is')\n",
    "    print(accuracy_score(y_test,y_pred))\n",
    "    print('classification report is')\n",
    "    print(classification_report(y_test,y_pred))\n",
    "    print('*'*100)\n",
    "\n"
   ]
  },
  {
   "cell_type": "code",
   "execution_count": 28,
   "id": "79ebd721",
   "metadata": {},
   "outputs": [],
   "source": [
    "from sklearn.model_selection import GridSearchCV\n",
    "model1=BernoulliNB()\n"
   ]
  }
 ],
 "metadata": {
  "kernelspec": {
   "display_name": "Python 3",
   "language": "python",
   "name": "python3"
  },
  "language_info": {
   "codemirror_mode": {
    "name": "ipython",
    "version": 3
   },
   "file_extension": ".py",
   "mimetype": "text/x-python",
   "name": "python",
   "nbconvert_exporter": "python",
   "pygments_lexer": "ipython3",
   "version": "3.10.4"
  }
 },
 "nbformat": 4,
 "nbformat_minor": 5
}
